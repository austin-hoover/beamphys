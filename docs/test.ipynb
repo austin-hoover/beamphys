{
 "cells": [
  {
   "cell_type": "markdown",
   "id": "4a41baae-684c-48e4-b4a7-bf30998835f9",
   "metadata": {},
   "source": [
    "# Test"
   ]
  },
  {
   "cell_type": "code",
   "execution_count": null,
   "id": "33aae21a-29b8-46ca-820b-74842e186e12",
   "metadata": {},
   "outputs": [],
   "source": [
    "Testing ipynb"
   ]
  }
 ],
 "metadata": {
  "kernelspec": {
   "display_name": "psdist",
   "language": "python",
   "name": "psdist"
  },
  "language_info": {
   "codemirror_mode": {
    "name": "ipython",
    "version": 3
   },
   "file_extension": ".py",
   "mimetype": "text/x-python",
   "name": "python",
   "nbconvert_exporter": "python",
   "pygments_lexer": "ipython3",
   "version": "3.8.10"
  }
 },
 "nbformat": 4,
 "nbformat_minor": 5
}
