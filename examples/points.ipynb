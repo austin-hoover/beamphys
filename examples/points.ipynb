{
 "cells": [
  {
   "cell_type": "markdown",
   "id": "af50200e-4ebb-407c-8847-04df44913efd",
   "metadata": {},
   "source": [
    "# Examples: points"
   ]
  },
  {
   "cell_type": "code",
   "execution_count": null,
   "id": "8c08e571-9127-48ae-883b-e81bb7d6391a",
   "metadata": {
    "tags": []
   },
   "outputs": [],
   "source": [
    "import importlib\n",
    "from pprint import pprint\n",
    "import sys\n",
    "\n",
    "from ipywidgets import interact\n",
    "from ipywidgets import widgets\n",
    "import numpy as np\n",
    "import matplotlib.pyplot as plt\n",
    "import proplot as pplt\n",
    "from scipy import interpolate\n",
    "\n",
    "sys.path.append(\"..\") \n",
    "import psdist as ps\n",
    "import psdist.visualization as psv"
   ]
  },
  {
   "cell_type": "code",
   "execution_count": null,
   "id": "f3fbaf18-75a6-4a17-92b4-a879ef1f546e",
   "metadata": {
    "tags": []
   },
   "outputs": [],
   "source": [
    "pplt.rc[\"cmap.discrete\"] = False\n",
    "pplt.rc[\"colorbar.width\"] = \"1.2em\"\n",
    "pplt.rc[\"cycle\"] = \"538\"\n",
    "pplt.rc[\"cmap.sequential\"] = \"viridis\"\n",
    "pplt.rc[\"figure.facecolor\"] = \"white\"\n",
    "pplt.rc[\"grid\"] = False"
   ]
  },
  {
   "cell_type": "markdown",
   "id": "62e44b22-a343-4aac-a8c8-048890dc4289",
   "metadata": {},
   "source": [
    "Make a six-dimensional distribution."
   ]
  },
  {
   "cell_type": "code",
   "execution_count": null,
   "id": "7cd56d18-d3c3-41f9-b34c-3d9979ac32b7",
   "metadata": {
    "tags": []
   },
   "outputs": [],
   "source": [
    "d = 6\n",
    "n = int(1e6)\n",
    "dims = [\"x\", \"px\", \"y\", \"py\", \"z\", \"pz\"]\n",
    "\n",
    "state = np.random.RandomState(1241)\n",
    "_Sigma = np.identity(d)\n",
    "for i in range(d):\n",
    "    for j in range(i):\n",
    "        _Sigma[i, j] = _Sigma[j, i] = state.uniform(-0.2, 0.2)\n",
    "X = state.multivariate_normal(np.zeros(d), _Sigma, size=n)\n",
    "for _ in range(4):\n",
    "    scale = state.uniform(0.5, 1.5, size=d)\n",
    "    loc = state.uniform(-3.0, 3.0, size=d)\n",
    "    X = np.vstack([X, state.normal(loc=loc, scale=scale, size=(n, d))])\n",
    "X = X - np.mean(X, axis=0)"
   ]
  },
  {
   "cell_type": "markdown",
   "id": "cc0b7e4a-ff8a-4f11-a4f2-78bb59c380b3",
   "metadata": {},
   "source": [
    "## 2D plotting"
   ]
  },
  {
   "cell_type": "code",
   "execution_count": null,
   "id": "9112f102-25d2-4032-91b4-ccc64ed35a3d",
   "metadata": {
    "tags": []
   },
   "outputs": [],
   "source": [
    "axis = (0, 1)\n",
    "_X = ps.points.downsample(X[:, axis], 1000)\n",
    "_dims = [dims[k] for k in axis]"
   ]
  },
  {
   "cell_type": "code",
   "execution_count": null,
   "id": "283b7de8-efaa-4821-a778-3816da08b3ef",
   "metadata": {
    "tags": []
   },
   "outputs": [],
   "source": [
    "cmap = pplt.Colormap(\"blues\", left=0.1)\n",
    "kinds = [\"scatter\", \"hist\", \"contour\", \"contourf\", \"kde\"]\n",
    "\n",
    "fig, axs = pplt.subplots(ncols=len(kinds), figwidth=8.0)\n",
    "for ax, kind in zip(axs, kinds):\n",
    "    kws = dict()\n",
    "    if kind == \"scatter\":\n",
    "        kws[\"c\"] = cmap(1.0)\n",
    "        kws[\"s\"] = 1.0\n",
    "    else:\n",
    "        kws[\"cmap\"] = cmap\n",
    "    psv.points.plot2d(\n",
    "        _X, \n",
    "        ax=ax, \n",
    "        kind=kind, \n",
    "        rms_ellipse=True, \n",
    "        rms_ellipse_kws=dict(level=[2.0,], color=\"red\"), \n",
    "        **kws\n",
    "    )\n",
    "    ax.format(title=kind)\n",
    "axs.format(xlabel=_dims[0], ylabel=_dims[1])"
   ]
  },
  {
   "cell_type": "markdown",
   "id": "90bbd6e9-dd16-42a1-9ae7-041db294be49",
   "metadata": {},
   "source": [
    "### Enclosing sphere/ellipsoid "
   ]
  },
  {
   "cell_type": "code",
   "execution_count": null,
   "id": "6bc341f7-925f-4669-b05d-6372708944ab",
   "metadata": {
    "tags": []
   },
   "outputs": [],
   "source": [
    "fig, ax = pplt.subplots()\n",
    "psv.points.plot2d(_X, ax=ax, kind=\"scatter\", c=\"grey\")\n",
    "\n",
    "fractions = np.linspace(0.10, 1.0, 3)\n",
    "cmap = pplt.Colormap(\"blues\", left=0.2, reverse=True)\n",
    "for fraction in fractions:\n",
    "    level = ps.points.enclosing_ellipsoid(_X, fraction=fraction)\n",
    "    psv.points.plot_rms_ellipse(\n",
    "        _X,\n",
    "        ax=ax,\n",
    "        level=level,\n",
    "        color=cmap(fraction),\n",
    "        lw=1.5,\n",
    "        label=f\"{(100.0 * fraction):.0f}%\",\n",
    "        zorder=0,\n",
    "    )\n",
    "ax.legend(loc=\"t\", ncols=3, framealpha=0)\n",
    "ax.format(xlabel=_dims[0], ylabel=_dims[1]);"
   ]
  },
  {
   "cell_type": "markdown",
   "id": "766c291d-f91c-4fb3-acae-b50bd81582d0",
   "metadata": {},
   "source": [
    "### Spherical and ellipsoidal shell slices "
   ]
  },
  {
   "cell_type": "code",
   "execution_count": null,
   "id": "4d5a8299-6ea0-488d-ba97-ad411c89fb85",
   "metadata": {
    "tags": []
   },
   "outputs": [],
   "source": [
    "rmin = 2.0\n",
    "rmax = 3.0\n",
    "_X1 = ps.points.slice_sphere(_X, axis=(0, 1), rmin=rmin, rmax=rmax)\n",
    "\n",
    "fig, ax = pplt.subplots()\n",
    "psv.points.plot2d(_X, ax=ax, kind=\"scatter\", c=\"grey\")\n",
    "psv.points.plot2d(_X1, ax=ax, kind=\"scatter\", c=\"red\")\n",
    "for r in [rmin, rmax]:\n",
    "    psv.circle(r, ax=ax)\n",
    "ax.format(xlabel=_dims[0], ylabel=_dims[1])"
   ]
  },
  {
   "cell_type": "code",
   "execution_count": null,
   "id": "f13775e5-9594-494e-b991-7690689f345c",
   "metadata": {
    "tags": []
   },
   "outputs": [],
   "source": [
    "rmin = 1.0\n",
    "rmax = 1.5\n",
    "_X1 = ps.points.slice_ellipsoid(_X, rmin=rmin, rmax=rmax)\n",
    "\n",
    "fig, ax = pplt.subplots()\n",
    "psv.points.plot2d(_X, ax=ax, kind=\"scatter\", c=\"grey\")\n",
    "psv.points.plot2d(_X1, ax=ax, kind=\"scatter\", c=\"red\")\n",
    "for r in [rmin, rmax]:\n",
    "    psv.points.plot_rms_ellipse(X, level=r, ax=ax)\n",
    "ax.format(xlabel=_dims[0], ylabel=_dims[1])"
   ]
  },
  {
   "cell_type": "code",
   "execution_count": null,
   "id": "6cca364d-bc3f-4f8a-8330-d0f179cb202d",
   "metadata": {
    "tags": []
   },
   "outputs": [],
   "source": [
    "@interact(radius=widgets.FloatRangeSlider(min=0.0, max=5.0))\n",
    "def update(radius):\n",
    "    rmin, rmax = radius\n",
    "    _Y = ps.points.slice_ellipsoid(_X, axis=(0, 1), rmin=rmin, rmax=rmax)\n",
    "\n",
    "    fig, ax = pplt.subplots()\n",
    "    ax.format(xlim=(-5.0, 5.0), ylim=(-5.0, 5.0))\n",
    "    psv.points.plot2d(_X, ax=ax, kind=\"scatter\", c=\"grey\")\n",
    "    psv.points.plot2d(_Y, ax=ax, kind=\"scatter\", c=\"red\")\n",
    "    for r in [rmin, rmax]:\n",
    "        psv.points.plot_rms_ellipse(X, level=r, ax=ax)\n",
    "    ax.format(xlabel=_dims[0], ylabel=_dims[1]);"
   ]
  },
  {
   "cell_type": "markdown",
   "id": "b9e881f0-41aa-4a47-bb25-cb213af06551",
   "metadata": {},
   "source": [
    "### Contour shell slice"
   ]
  },
  {
   "cell_type": "code",
   "execution_count": null,
   "id": "c9058697-70e6-4c54-94e6-f7a257f5f9c8",
   "metadata": {
    "tags": []
   },
   "outputs": [],
   "source": [
    "bins = 50\n",
    "\n",
    "fig, ax = pplt.subplots()\n",
    "psv.points.plot2d(\n",
    "    X[:, axis],\n",
    "    ax=ax,\n",
    "    kind=\"hist\",\n",
    "    cmap=pplt.Colormap(\"mono\", left=0.0, right=1.0),\n",
    "    process_kws=dict(norm=\"max\"),\n",
    "    colorbar=True,\n",
    "    bins=bins,\n",
    "    discrete=False,\n",
    ")\n",
    "for lmin, c in zip([0.0, 0.4, 0.8], [\"red\", \"blue\", \"yellow\"]):\n",
    "    lmax = lmin + 0.15\n",
    "    psv.points.plot2d(\n",
    "        ps.points.downsample(\n",
    "            ps.points.slice_contour(X[:, axis], lmin=lmin, lmax=lmax, bins=bins),\n",
    "            samples=1000,\n",
    "        ),\n",
    "        ax=ax,\n",
    "        kind=\"scatter\",\n",
    "        c=c,\n",
    "        s=1.0,\n",
    "    )\n",
    "ax.format(xlabel=_dims[0], ylabel=_dims[1]);"
   ]
  },
  {
   "cell_type": "markdown",
   "id": "3df82aef-81eb-4549-9275-1aec51fc9449",
   "metadata": {},
   "source": [
    "### Joint plot "
   ]
  },
  {
   "cell_type": "code",
   "execution_count": null,
   "id": "01a5f994-def9-42e4-8040-a1f114252532",
   "metadata": {
    "tags": []
   },
   "outputs": [],
   "source": [
    "grid = psv.JointGrid(\n",
    "    marg_kws=dict(space=\"2.0em\", width=\"7.0em\"),\n",
    "    marg_fmt_kws_x=dict(yspineloc=\"left\", xspineloc=\"bottom\"),\n",
    "    marg_fmt_kws_y=dict(yspineloc=\"left\", xspineloc=\"bottom\"),\n",
    "    xspineloc=\"bottom\",\n",
    "    yspineloc=\"left\",\n",
    ")\n",
    "grid.plot_points(\n",
    "    X[:, axis],\n",
    "    marg_kws=dict(kind=\"step\", color=\"black\", scale=\"max\"),\n",
    "    marg_hist_kws=dict(bins=75),\n",
    "    kind=\"hist\",\n",
    "    process_kws=dict(norm=\"max\"),\n",
    "    cmap=pplt.Colormap(\"blues\", left=0.0),\n",
    "    discrete=False,\n",
    "    norm=\"log\",\n",
    "    colorbar=True,\n",
    "    colorbar_kw=dict(width=\"1.2em\", tickminor=True),\n",
    ")\n",
    "psv.points.plot2d(\n",
    "    X[:, axis],\n",
    "    ax=grid.ax,\n",
    "    process_kws=dict(norm=\"max\", blur_sigma=5.0),\n",
    "    kind=\"contour\",\n",
    "    levels=[0.001, 0.01, 0.1, 1.0],\n",
    "    colors=\"black\",\n",
    "    lw=0.4,\n",
    ")\n",
    "ymin = 10.0**-5.0\n",
    "ymax = None\n",
    "grid.ax_marg_x.format(yformatter=\"log\", yscale=\"log\", ymin=ymin, ymax=ymax)\n",
    "grid.ax_marg_y.format(xformatter=\"log\", xscale=\"log\", xmin=ymin, xmax=ymax)\n",
    "grid.ax.format(xlabel=_dims[0], ylabel=_dims[1]);"
   ]
  },
  {
   "cell_type": "markdown",
   "id": "12c1fb46-2f83-41f2-aae7-e6fd97ed08a6",
   "metadata": {},
   "source": [
    "## Corner plot "
   ]
  },
  {
   "cell_type": "code",
   "execution_count": null,
   "id": "78f21b54-0771-4711-924c-f21e602661a3",
   "metadata": {
    "tags": []
   },
   "outputs": [],
   "source": [
    "alpha = 0.5\n",
    "cmaps = [pplt.Colormap(name, left=0.2) for name in [\"blues\", \"reds\", \"greens\"]]\n",
    "colors = [cmap(0.75) for cmap in cmaps]\n",
    "plot_kws = dict(\n",
    "    mask=True,\n",
    "    alpha=alpha,\n",
    "    rms_ellipse=False,\n",
    ")\n",
    "autolim_kws = dict(pad=0.1, zero_center=True)"
   ]
  },
  {
   "cell_type": "code",
   "execution_count": null,
   "id": "2bf07aad-2795-44b4-bf46-85dfb64b19a1",
   "metadata": {
    "tags": []
   },
   "outputs": [],
   "source": [
    "grid = psv.CornerGrid(d=X.shape[1], diag=True, corner=False, figwidth=7.0)\n",
    "grid.set_labels(dims)\n",
    "Y = np.copy(X[: int(1e5)])\n",
    "R = ps.ap.phase_adv_matrix(np.radians(45.0), np.radians(20.0), np.radians(-45.0))\n",
    "for i in range(3):\n",
    "    if i > 0:\n",
    "        Y = ps.points.transform_linear(Y, R)\n",
    "        Y = Y + state.uniform(-3.5, 3.5, size=(1, Y.shape[1]))\n",
    "        Y[:, 3] += 0.01 * Y[:, 1] ** 3 - 0.0002 * Y[:, 2] ** 4\n",
    "    grid.plot_points(\n",
    "        Y,\n",
    "        kind=\"hist\",\n",
    "        bins=\"auto\",\n",
    "        lower=True,\n",
    "        upper=False,\n",
    "        diag_kws=dict(color=colors[i], alpha=alpha),\n",
    "        cmap=cmaps[i],\n",
    "        **plot_kws,\n",
    "    )\n",
    "    grid.plot_points(\n",
    "        Y,\n",
    "        kind=\"contour\",\n",
    "        bins=25,\n",
    "        lower=False,\n",
    "        upper=True,\n",
    "        diag_kws=dict(alpha=0.0),\n",
    "        cmap=cmaps[i],\n",
    "        **plot_kws,\n",
    "    )"
   ]
  },
  {
   "cell_type": "markdown",
   "id": "4d2ace1d-eaa9-42df-9208-818c37ce0128",
   "metadata": {},
   "source": [
    "### Normalized radial histogram"
   ]
  },
  {
   "cell_type": "markdown",
   "id": "8e91a2e3-6908-4558-90cb-c84ba5cfbd51",
   "metadata": {},
   "source": [
    "Normalize by the volume of each spherical shell."
   ]
  },
  {
   "cell_type": "code",
   "execution_count": null,
   "id": "33b48ee7-c6ef-49cb-a217-f8592565cf04",
   "metadata": {},
   "outputs": [],
   "source": [
    "profile, edges = ps.points.radial_histogram(X[:, :4], bins=50)\n",
    "profile = psv.scale_profile(profile, scale=\"max\")\n",
    "coords = ps.utils.centers_from_edges(edges)\n",
    "\n",
    "fig, ax = pplt.subplots()\n",
    "psv.plot_profile(profile, edges=edges, ax=ax, kind=\"step\", color=\"black\", label=\"data\")\n",
    "ax.plot(coords, np.exp(-0.5 * coords**2), color=\"red5\", alpha=0.5, label=\"gaussian\")\n",
    "ax.legend()\n",
    "ax.format(\n",
    "    yscale=\"log\",\n",
    "    yformatter=\"log\",\n",
    "    ymin=0.0001,\n",
    "    xlabel=\"Radius\",\n",
    "    ylabel=\"Normalized density\",\n",
    ")"
   ]
  },
  {
   "cell_type": "markdown",
   "id": "9d3fd9c4-0a5d-490b-9a1f-40bb91314ce0",
   "metadata": {},
   "source": [
    "Define $\\mathbf{r} = [x, y, z]^T$, $\\mathbf{r}' = [p_x, p_y, p_z]^T$."
   ]
  },
  {
   "cell_type": "code",
   "execution_count": null,
   "id": "b932fff5-e13d-4bcd-bb9c-80ea2ad0b3e2",
   "metadata": {},
   "outputs": [],
   "source": [
    "r = ps.points.get_radii(X[:, (0, 2, 4)])\n",
    "pr = ps.points.get_radii(X[:, (1, 3, 5)])\n",
    "R = np.vstack([r, pr]).T\n",
    "\n",
    "grid = psv.JointGrid(\n",
    "    marg_kws=dict(space=\"2.0em\", width=\"7.0em\"),\n",
    "    marg_fmt_kws_x=dict(yspineloc=\"left\", xspineloc=\"bottom\", ylabel=\"f(r)\"),\n",
    "    marg_fmt_kws_y=dict(yspineloc=\"left\", xspineloc=\"bottom\", xlabel=\"f(pr)\"),\n",
    ")\n",
    "grid.plot_points(\n",
    "    R,\n",
    "    marg_kws=dict(scale=\"max\", fill=True, color=\"black\", alpha=0.3),\n",
    "    bins=100,\n",
    "    process_kws=dict(norm=\"max\"),\n",
    "    offset=1.0,\n",
    "    N=21,\n",
    "    norm=\"log\",\n",
    "    vmax=1.0,\n",
    "    cmap=\"blues\",\n",
    "    colorbar=True,\n",
    "    colorbar_kw=dict(label=\"f(r, pr)\"),\n",
    ")\n",
    "ymin = 10.0**-6.0\n",
    "ymax = 5.0\n",
    "grid.ax.format(xlabel=\"r\", ylabel=\"pr\")"
   ]
  },
  {
   "cell_type": "markdown",
   "id": "1db00e29-95bf-48a9-8181-01263dcd34f6",
   "metadata": {},
   "source": [
    "### Sparse histogram"
   ]
  },
  {
   "cell_type": "code",
   "execution_count": null,
   "id": "991e7a5f-3126-4484-83c4-6390547c65a1",
   "metadata": {},
   "outputs": [],
   "source": [
    "edges = ps.points.histogram_bin_edges(X, bins=6)\n",
    "nonzero_indices, nonzero_counts, nonzero_edges = ps.points.sparse_histogram(\n",
    "    X, bins=edges\n",
    ")\n",
    "print(f\"Nonzero bins from sparse hist: {len(nonzero_counts)}\")"
   ]
  },
  {
   "cell_type": "code",
   "execution_count": null,
   "id": "f7ea9ce7-97bf-43e2-bb5d-a00c044f0d73",
   "metadata": {},
   "outputs": [],
   "source": [
    "hist, _ = ps.points.histogram(X, bins=edges)\n",
    "print(f\"Nonzero bins from hist: {hist[hist > 0].size}\")"
   ]
  },
  {
   "cell_type": "markdown",
   "id": "0cbc7e0d-e888-4432-96c0-453986b4b48e",
   "metadata": {},
   "source": [
    "## Slice matrix plot "
   ]
  },
  {
   "cell_type": "markdown",
   "id": "e3e426f1-5ecf-47d5-bd4c-e71400ddc755",
   "metadata": {},
   "source": [
    "[To do...]"
   ]
  },
  {
   "cell_type": "markdown",
   "id": "6859634b-ba3a-42e2-9710-b7814f2d6225",
   "metadata": {},
   "source": [
    "## Interactive slicing"
   ]
  },
  {
   "cell_type": "markdown",
   "id": "aeebffe2-9b95-4e06-8a2a-35f07ba335ee",
   "metadata": {},
   "source": [
    "## 1D "
   ]
  },
  {
   "cell_type": "code",
   "execution_count": null,
   "id": "f916657e-c40e-4035-8ed6-27280b64fabc",
   "metadata": {},
   "outputs": [],
   "source": [
    "X = X - np.mean(X, axis=0)\n",
    "Y = Y - np.mean(Y, axis=0)\n",
    "data = [\n",
    "    [Y, X, 2.0 * X],\n",
    "    [X, -Y, -2.0 * Y],\n",
    "]"
   ]
  },
  {
   "cell_type": "code",
   "execution_count": null,
   "id": "94ac25cc-3503-4d5d-9117-c3ea7595d4e7",
   "metadata": {},
   "outputs": [],
   "source": [
    "psv.points.proj1d_interactive_slice(\n",
    "    data=data,\n",
    "    dims=dims,\n",
    "    slice_type=\"int\",\n",
    "    options=dict(\n",
    "        alpha=True,\n",
    "        auto_plot_res=False,\n",
    "        kind=True,\n",
    "        log=True,\n",
    "        normalize=False,\n",
    "        scale=False,\n",
    "    ),\n",
    "    share_limits=False,\n",
    "    legend=True,\n",
    "    labels=None,\n",
    "    cycle=\"538\",\n",
    ")"
   ]
  },
  {
   "cell_type": "markdown",
   "id": "54ad0e02-e545-4fa7-8197-0d2a4b93572f",
   "metadata": {},
   "source": [
    "### 2D "
   ]
  },
  {
   "cell_type": "code",
   "execution_count": null,
   "id": "e869c1f6-bba6-49d1-818e-fee8915c5eb3",
   "metadata": {
    "tags": []
   },
   "outputs": [],
   "source": [
    "plot_kws = dict(\n",
    "    profx=True,\n",
    "    profy=True,\n",
    "    prof_kws=dict(color=\"white\"),\n",
    "    process_kws=dict(norm=\"max\"),\n",
    "    autolim_kws=dict(pad=0.1),\n",
    "    offset=1.0,\n",
    "    colorbar=True,\n",
    "    colorbar_kw=dict(tickminor=True, width=\"1.2em\"),\n",
    ")"
   ]
  },
  {
   "cell_type": "code",
   "execution_count": null,
   "id": "585f58a8-8e43-4af2-b52d-8a3b3b32a959",
   "metadata": {},
   "outputs": [],
   "source": [
    "psv.points.proj2d_interactive_slice(\n",
    "    data=data,\n",
    "    limits=None,\n",
    "    share_limits=1,\n",
    "    default_axis=(0, 1),\n",
    "    slice_type=\"int\",\n",
    "    plot_res=64,\n",
    "    slice_res=16,\n",
    "    dims=dims,\n",
    "    units=None,\n",
    "    options=dict(\n",
    "        auto_plot_res=False,\n",
    "        discrete=True,\n",
    "        ellipse=True,\n",
    "        log=True,\n",
    "        mask=False,\n",
    "        normalize=True,\n",
    "        profiles=True,\n",
    "    ),\n",
    "    fig_kws=dict(toplabels=[\"left\", \"right\"], space=6.0),\n",
    "    **plot_kws,\n",
    ")"
   ]
  },
  {
   "cell_type": "code",
   "execution_count": null,
   "id": "a518caf9-0ec4-4403-a5fc-19b67838ee60",
   "metadata": {},
   "outputs": [],
   "source": []
  }
 ],
 "metadata": {
  "kernelspec": {
   "display_name": "psdist",
   "language": "python",
   "name": "psdist"
  },
  "language_info": {
   "codemirror_mode": {
    "name": "ipython",
    "version": 3
   },
   "file_extension": ".py",
   "mimetype": "text/x-python",
   "name": "python",
   "nbconvert_exporter": "python",
   "pygments_lexer": "ipython3",
   "version": "3.8.10"
  }
 },
 "nbformat": 4,
 "nbformat_minor": 5
}
