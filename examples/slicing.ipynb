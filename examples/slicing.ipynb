{
 "cells": [
  {
   "cell_type": "markdown",
   "id": "196cb8d7-83b4-408d-9295-8d2fd9d93085",
   "metadata": {},
   "source": [
    "# Slicing and projecting"
   ]
  },
  {
   "cell_type": "code",
   "execution_count": 1,
   "id": "88b9da36-0bd8-4e58-8858-031f99b5f767",
   "metadata": {},
   "outputs": [],
   "source": [
    "import sys\n",
    "sys.path.append('..')\n",
    "\n",
    "import matplotlib.pyplot as plt\n",
    "import numpy as np\n",
    "import plotly.graph_objects as go\n",
    "import psdist as ps\n",
    "import psdist.visualization as psv\n",
    "import proplot as pplt\n",
    "\n",
    "pplt.rc['cmap.discrete'] = False\n",
    "pplt.rc['grid'] = False"
   ]
  },
  {
   "cell_type": "code",
   "execution_count": 2,
   "id": "9bfcb9de-901f-4a96-8691-42687b314d37",
   "metadata": {},
   "outputs": [],
   "source": [
    "f = np.random.normal(size=(6, 4, 12, 8, 2, 9))"
   ]
  },
  {
   "cell_type": "code",
   "execution_count": 3,
   "id": "f35c969d-ef9a-4cba-95a3-17e1be281fbe",
   "metadata": {
    "scrolled": true,
    "tags": []
   },
   "outputs": [],
   "source": [
    "verbose = False\n",
    "for axis in np.ndindex(*(f.ndim * [f.ndim])):\n",
    "    if len(np.unique(axis)) != f.ndim:\n",
    "        continue\n",
    "    shape = ps.image.project(f, axis).shape\n",
    "    correct_shape = tuple([f.shape[k] for k in axis])\n",
    "    if verbose:\n",
    "        print(f'{axis}: {shape}, {correct_shape}')\n",
    "    assert shape == correct_shape"
   ]
  },
  {
   "cell_type": "code",
   "execution_count": 4,
   "id": "b4b43cc5-047e-4762-9fd5-7e97485aa715",
   "metadata": {},
   "outputs": [
    {
     "data": {
      "text/plain": [
       "(slice(3, 9, None),\n",
       " slice(None, None, None),\n",
       " 3,\n",
       " [4, 5, 6],\n",
       " slice(None, None, None),\n",
       " 1)"
      ]
     },
     "execution_count": 4,
     "metadata": {},
     "output_type": "execute_result"
    }
   ],
   "source": [
    "axis = (2, 0, 3, 5)\n",
    "ind = (3, (3, 9), [4, 5, 6], 1)\n",
    "idx = ps.image.slice_idx(n=f.ndim, axis=axis, ind=ind)\n",
    "idx"
   ]
  },
  {
   "cell_type": "code",
   "execution_count": 5,
   "id": "5bb25c2d-9488-4c96-8d7c-fc47e1187f94",
   "metadata": {},
   "outputs": [
    {
     "data": {
      "text/plain": [
       "(3, 3, 4, 2)"
      ]
     },
     "execution_count": 5,
     "metadata": {},
     "output_type": "execute_result"
    }
   ],
   "source": [
    "f[idx].shape"
   ]
  }
 ],
 "metadata": {
  "kernelspec": {
   "display_name": "Python 3 (ipykernel)",
   "language": "python",
   "name": "python3"
  },
  "language_info": {
   "codemirror_mode": {
    "name": "ipython",
    "version": 3
   },
   "file_extension": ".py",
   "mimetype": "text/x-python",
   "name": "python",
   "nbconvert_exporter": "python",
   "pygments_lexer": "ipython3",
   "version": "3.9.13"
  }
 },
 "nbformat": 4,
 "nbformat_minor": 5
}
