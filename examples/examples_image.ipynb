{
 "cells": [
  {
   "cell_type": "code",
   "execution_count": null,
   "id": "8c08e571-9127-48ae-883b-e81bb7d6391a",
   "metadata": {},
   "outputs": [],
   "source": [
    "import sys\n",
    "sys.path.append('..')\n",
    "\n",
    "import numpy as np\n",
    "import matplotlib.pyplot as plt\n",
    "import proplot as pplt\n",
    "import psdist.bunch as psd\n",
    "import psdist.image as psi\n",
    "import psdist.plotting as psp"
   ]
  },
  {
   "cell_type": "code",
   "execution_count": null,
   "id": "f3fbaf18-75a6-4a17-92b4-a879ef1f546e",
   "metadata": {},
   "outputs": [],
   "source": [
    "pplt.rc['cmap.discrete'] = False\n",
    "pplt.rc['cmap.sequential'] = 'viridis'\n",
    "pplt.rc['figure.facecolor'] = 'white'\n",
    "pplt.rc['grid'] = False"
   ]
  },
  {
   "cell_type": "code",
   "execution_count": null,
   "id": "890e8f6f-9abe-49be-81cd-ce594affb9c7",
   "metadata": {},
   "outputs": [],
   "source": [
    "res = 50\n",
    "state = np.random.RandomState(1951)\n",
    "xx = np.linspace(-5.0, 5.0, res)\n",
    "X, Y = np.meshgrid(xx, xx, indexing='ij')\n",
    "image = np.zeros((res, res))\n",
    "for _ in range(4):\n",
    "    sig = state.uniform(0.5, 1.5, size=2)\n",
    "    mu = state.uniform(-2.0, 2.0, size=2)\n",
    "    image += np.exp(-0.5 * (((X - mu[0]) / sig[0])**2 + ((Y - mu[1]) / sig[1])**2))\n",
    "image = image / np.max(image)"
   ]
  },
  {
   "cell_type": "code",
   "execution_count": null,
   "id": "dcd42f18-9121-48cc-b7d0-64e956dcf908",
   "metadata": {},
   "outputs": [],
   "source": []
  }
 ],
 "metadata": {
  "kernelspec": {
   "display_name": "Python 3 (ipykernel)",
   "language": "python",
   "name": "python3"
  },
  "language_info": {
   "codemirror_mode": {
    "name": "ipython",
    "version": 3
   },
   "file_extension": ".py",
   "mimetype": "text/x-python",
   "name": "python",
   "nbconvert_exporter": "python",
   "pygments_lexer": "ipython3",
   "version": "3.9.13"
  }
 },
 "nbformat": 4,
 "nbformat_minor": 5
}
