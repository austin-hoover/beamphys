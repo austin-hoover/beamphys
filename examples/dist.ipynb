{
 "cells": [
  {
   "cell_type": "markdown",
   "id": "d2fc6225-afbe-4be8-8905-15ad5136de00",
   "metadata": {},
   "source": [
    "# Distributions"
   ]
  },
  {
   "cell_type": "code",
   "execution_count": null,
   "id": "92a27d91-801d-4504-b872-a998c4e1da1e",
   "metadata": {
    "pycharm": {
     "is_executing": true
    }
   },
   "outputs": [],
   "source": [
    "import matplotlib.pyplot as plt\n",
    "import numpy as np\n",
    "import proplot as pplt\n",
    "\n",
    "import psdist as ps\n",
    "import psdist.plot as psv"
   ]
  },
  {
   "cell_type": "code",
   "execution_count": null,
   "id": "a7f7d379-0667-458d-9a6e-5642b70d10ae",
   "metadata": {},
   "outputs": [],
   "source": [
    "pplt.rc[\"cmap.discrete\"] = False\n",
    "pplt.rc[\"cmap.sequential\"] = \"mono\"\n",
    "pplt.rc[\"figure.facecolor\"] = \"white\"\n",
    "pplt.rc[\"grid\"] = False"
   ]
  },
  {
   "cell_type": "markdown",
   "id": "fd2e2c36-f210-4e21-a943-95a749394131",
   "metadata": {},
   "source": [
    "## 2D"
   ]
  },
  {
   "cell_type": "code",
   "execution_count": null,
   "id": "fe2b3da5-b266-4261-9e6e-7d5bc771a440",
   "metadata": {},
   "outputs": [],
   "source": [
    "names = [\n",
    "    \"gaussian\",\n",
    "    \"waterbag\",\n",
    "]"
   ]
  },
  {
   "cell_type": "code",
   "execution_count": null,
   "id": "fdc081dc-ce78-41da-ad75-29896f69606e",
   "metadata": {},
   "outputs": [],
   "source": [
    "for name in names:\n",
    "    print(name)\n",
    "    dist = ps.dist.get_distribution(name=name, ndim=2)\n",
    "\n",
    "    n = 10_000\n",
    "    xmax = 4.0\n",
    "    res = 200\n",
    "\n",
    "    x = dist.sample(n)\n",
    "\n",
    "    coords = 2 * [np.linspace(-xmax, xmax, res)]\n",
    "    x_grid = ps.image.get_grid_points(coords)\n",
    "    prob = dist.prob(x_grid).reshape((res, res))\n",
    "\n",
    "    fig, axs = pplt.subplots(\n",
    "        ncols=2, figheight=2.0, space=0.0, xspineloc=\"neither\", yspineloc=\"neither\"\n",
    "    )\n",
    "    psv.points.plot(x, bins=100, limits=(2 * [(-xmax, xmax)]), ax=axs[0], mask=False)\n",
    "    psv.image.plot(prob, coords=coords, ax=axs[1])\n",
    "    plt.show()"
   ]
  },
  {
   "cell_type": "markdown",
   "id": "deba885e-91e0-4ab6-bbe1-41bf2888c9ec",
   "metadata": {},
   "source": [
    "### ND "
   ]
  },
  {
   "cell_type": "code",
   "execution_count": null,
   "id": "3398e780-060f-40d6-a18c-e87e8acbdd13",
   "metadata": {},
   "outputs": [],
   "source": [
    "for ndim in [3, 4, 5]:\n",
    "    print(f\"ndim={ndim}\")\n",
    "    for name in names:\n",
    "        print(name)\n",
    "        dist = ps.dist.get_distribution(name=name, ndim=ndim)\n",
    "\n",
    "        n = 100_000\n",
    "        xmax = 3.5\n",
    "        res = 25\n",
    "\n",
    "        ndim = dist.ndim\n",
    "        x = dist.sample(n)\n",
    "\n",
    "        coords = ndim * [np.linspace(-xmax, xmax, res)]\n",
    "        x_grid = ps.image.get_grid_points(coords)\n",
    "        prob = dist.prob(x_grid).reshape(tuple(ndim * [res]))\n",
    "\n",
    "        grid = psv.CornerGrid(ndim, figwidth=(ndim * 1.25), corner=False)\n",
    "        grid.plot_points(\n",
    "            x, bins=75, limits=(ndim * [(-xmax, xmax)]), upper=False, diag=True\n",
    "        )\n",
    "        grid.plot_image(prob, coords=coords, lower=False, diag=True)\n",
    "        grid.axs.format(xticklabels=[], yticklabels=[])\n",
    "        plt.show()"
   ]
  },
  {
   "cell_type": "code",
   "execution_count": null,
   "id": "0eab4868-9efd-4394-b9c5-e41c51e6427a",
   "metadata": {},
   "outputs": [],
   "source": []
  }
 ],
 "metadata": {
  "kernelspec": {
   "display_name": "psdist",
   "language": "python",
   "name": "psdist"
  },
  "language_info": {
   "codemirror_mode": {
    "name": "ipython",
    "version": 3
   },
   "file_extension": ".py",
   "mimetype": "text/x-python",
   "name": "python",
   "nbconvert_exporter": "python",
   "pygments_lexer": "ipython3",
   "version": "3.10.14"
  }
 },
 "nbformat": 4,
 "nbformat_minor": 5
}
