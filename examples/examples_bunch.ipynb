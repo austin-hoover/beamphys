{
 "cells": [
  {
   "cell_type": "markdown",
   "id": "af50200e-4ebb-407c-8847-04df44913efd",
   "metadata": {},
   "source": [
    "# Examples: `bunch` "
   ]
  },
  {
   "cell_type": "markdown",
   "id": "541b18f3-e056-46d5-a9bb-8e6851d66162",
   "metadata": {},
   "source": [
    "[In progress]"
   ]
  },
  {
   "cell_type": "code",
   "execution_count": null,
   "id": "8c08e571-9127-48ae-883b-e81bb7d6391a",
   "metadata": {},
   "outputs": [],
   "source": [
    "import importlib\n",
    "import sys\n",
    "sys.path.append('..')\n",
    "\n",
    "from ipywidgets import interact\n",
    "from ipywidgets import interactive\n",
    "import numpy as np\n",
    "import matplotlib.pyplot as plt\n",
    "import proplot as pplt\n",
    "import psdist.bunch as psb\n",
    "import psdist.image as psi\n",
    "import psdist.plotting as psp\n",
    "import seaborn as sns"
   ]
  },
  {
   "cell_type": "code",
   "execution_count": null,
   "id": "f3fbaf18-75a6-4a17-92b4-a879ef1f546e",
   "metadata": {},
   "outputs": [],
   "source": [
    "pplt.rc['cmap.discrete'] = False\n",
    "pplt.rc['cmap.sequential'] = 'viridis'\n",
    "pplt.rc['figure.facecolor'] = 'white'\n",
    "pplt.rc['grid'] = False"
   ]
  },
  {
   "cell_type": "code",
   "execution_count": null,
   "id": "7cd56d18-d3c3-41f9-b34c-3d9979ac32b7",
   "metadata": {},
   "outputs": [],
   "source": [
    "n = 4\n",
    "k = 100000\n",
    "X = np.zeros((1, n))\n",
    "\n",
    "state = np.random.RandomState(1950)\n",
    "_Sigma = np.identity(n)\n",
    "for i in range(n):\n",
    "    for j in range(i):\n",
    "        _Sigma[i, j] = _Sigma[j, i] = state.uniform(-0.2, 0.2)\n",
    "\n",
    "X = np.vstack([X, state.multivariate_normal(np.zeros(n), _Sigma, size=k)])\n",
    "for _ in range(4):\n",
    "    scale = state.uniform(0.5, 1.5, size=n)\n",
    "    loc = state.uniform(-2.0, 2.0, size=n)\n",
    "    X = np.vstack([X, state.normal(loc=loc, scale=scale, size=(int(0.25 * k), n))])\n",
    "X = X - np.mean(X, axis=0)"
   ]
  },
  {
   "cell_type": "markdown",
   "id": "12c1fb46-2f83-41f2-aae7-e6fd97ed08a6",
   "metadata": {},
   "source": [
    "## Corner plot "
   ]
  },
  {
   "cell_type": "code",
   "execution_count": null,
   "id": "d4da4328-072f-40e2-996c-de1cb83a991f",
   "metadata": {},
   "outputs": [],
   "source": [
    "dims = ['x', 'xp', 'y', 'yp']\n",
    "alpha = 0.5\n",
    "cmaps = [pplt.Colormap(name, left=0.2) for name in ['blues', 'reds']]\n",
    "diag_colors = [cmap(0.75) for cmap in cmaps]\n",
    "state = np.random.RandomState(1243)\n",
    "diag_kind = 'step'\n",
    "\n",
    "axes = psp.corner(\n",
    "    data=X, \n",
    "    bins='auto',\n",
    "    kind='hist',\n",
    "    diag_kind=diag_kind,\n",
    "    limits=None,\n",
    "    labels=dims,\n",
    "    samples=None,\n",
    "    diag_height_frac=0.6,\n",
    "    autolim_kws=None,\n",
    "    diag_kws=dict(color=diag_colors[0], alpha=alpha),\n",
    "    fig_kws=None,\n",
    "    prof=False,\n",
    "    prof_kws=None,\n",
    "    return_fig=False,\n",
    "    return_mesh=False,\n",
    "    cmap=cmaps[0],\n",
    "    alpha=alpha,\n",
    "    rms_ellipse=True,\n",
    "    rms_ellipse_kws=dict(level=2.0, color=diag_colors[0]),\n",
    ")\n",
    "axes = psp.corner(\n",
    "    data=(X + state.uniform(-2.0, 2.0, size=(1, X.shape[1]))), \n",
    "    axes=axes,\n",
    "    diag_kind=diag_kind,\n",
    "    diag_kws=dict(color=diag_colors[1], alpha=alpha),\n",
    "    autolim_kws=dict(),\n",
    "    cmap=cmaps[1],\n",
    "    alpha=alpha,\n",
    "    rms_ellipse=True,\n",
    "    rms_ellipse_kws=dict(level=2.0, color=diag_colors[1]),\n",
    ")"
   ]
  },
  {
   "cell_type": "markdown",
   "id": "6859634b-ba3a-42e2-9710-b7814f2d6225",
   "metadata": {},
   "source": [
    "## Interactive slicing"
   ]
  },
  {
   "cell_type": "code",
   "execution_count": null,
   "id": "e869c1f6-bba6-49d1-818e-fee8915c5eb3",
   "metadata": {},
   "outputs": [],
   "source": [
    "psp.interactive_proj2d_discrete(X)"
   ]
  },
  {
   "cell_type": "markdown",
   "id": "cc0b7e4a-ff8a-4f11-a4f2-78bb59c380b3",
   "metadata": {},
   "source": [
    "## 2D plotting"
   ]
  },
  {
   "cell_type": "code",
   "execution_count": null,
   "id": "9112f102-25d2-4032-91b4-ccc64ed35a3d",
   "metadata": {},
   "outputs": [],
   "source": [
    "axis = (0, 3)\n",
    "_dims = [dims[k] for k in axis]\n",
    "_X = X[:, axis]"
   ]
  },
  {
   "cell_type": "code",
   "execution_count": null,
   "id": "0918487d-d18c-4130-b0f1-2a7b474cb7f3",
   "metadata": {},
   "outputs": [],
   "source": [
    "image, centers = psb.histogram(_X, bins=35, centers=True)\n",
    "\n",
    "fig, ax = pplt.subplots()\n",
    "ax = psp.image(\n",
    "    image, x=centers[0], y=centers[1], ax=ax, \n",
    "    divide_by_max=True,\n",
    "    colorbar=True,\n",
    "    rms_ellipse=True,\n",
    "    rms_ellipse_kws=dict(level=(1.0, 2.0, 3.0), color='white', alpha=0.5),\n",
    "    mask_zero=False,\n",
    ")\n",
    "ax.format(xlabel=_dims[0], ylabel=_dims[1])\n",
    "plt.show()"
   ]
  },
  {
   "cell_type": "code",
   "execution_count": null,
   "id": "6bc341f7-925f-4669-b05d-6372708944ab",
   "metadata": {},
   "outputs": [],
   "source": [
    "fig, ax = pplt.subplots()\n",
    "psp.hist2d(_X, ax=ax, mask_zero=True, bins=50, cmap=pplt.Colormap('mono', left=0.1))\n",
    "\n",
    "fractions = [0.10, 0.90, 1.00]\n",
    "cmap = pplt.Colormap('flare')\n",
    "colors = [cmap(i) for i in [0.0, 0.5, 1.0]]\n",
    "colors = ['red2', 'red5', 'red9']\n",
    "for fraction, color in zip(fractions, colors):\n",
    "    level = psb.enclosing_ellipsoid(_X, fraction=fraction)\n",
    "    ax = psp.rms_ellipse(\n",
    "        Sigma=psb.cov(X), center=psb.mean(X), level=level, ax=ax,\n",
    "        color=color, lw=1.5,\n",
    "        label=f'{(100.0 * fraction)}',\n",
    "    )\n",
    "ax.legend(loc='r', ncols=1)"
   ]
  },
  {
   "cell_type": "code",
   "execution_count": null,
   "id": "4aff4872-e6e2-401c-bdc2-8ae89dee1882",
   "metadata": {},
   "outputs": [],
   "source": []
  }
 ],
 "metadata": {
  "kernelspec": {
   "display_name": "Python 3 (ipykernel)",
   "language": "python",
   "name": "python3"
  },
  "language_info": {
   "codemirror_mode": {
    "name": "ipython",
    "version": 3
   },
   "file_extension": ".py",
   "mimetype": "text/x-python",
   "name": "python",
   "nbconvert_exporter": "python",
   "pygments_lexer": "ipython3",
   "version": "3.9.13"
  }
 },
 "nbformat": 4,
 "nbformat_minor": 5
}
