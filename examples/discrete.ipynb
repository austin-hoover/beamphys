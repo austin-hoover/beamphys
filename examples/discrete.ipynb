{
 "cells": [
  {
   "cell_type": "markdown",
   "id": "af50200e-4ebb-407c-8847-04df44913efd",
   "metadata": {},
   "source": [
    "# Examples: `discrete` "
   ]
  },
  {
   "cell_type": "code",
   "execution_count": null,
   "id": "8c08e571-9127-48ae-883b-e81bb7d6391a",
   "metadata": {},
   "outputs": [],
   "source": [
    "import importlib\n",
    "import sys\n",
    "sys.path.append('..')\n",
    "\n",
    "from ipywidgets import interact\n",
    "import numpy as np\n",
    "import matplotlib.pyplot as plt\n",
    "import proplot as pplt\n",
    "import psdist as ps\n",
    "import psdist.visualization as psv"
   ]
  },
  {
   "cell_type": "code",
   "execution_count": null,
   "id": "f3fbaf18-75a6-4a17-92b4-a879ef1f546e",
   "metadata": {},
   "outputs": [],
   "source": [
    "pplt.rc['cmap.discrete'] = False\n",
    "pplt.rc['cmap.sequential'] = 'viridis'\n",
    "pplt.rc['figure.facecolor'] = 'white'\n",
    "pplt.rc['grid'] = False"
   ]
  },
  {
   "cell_type": "code",
   "execution_count": null,
   "id": "7cd56d18-d3c3-41f9-b34c-3d9979ac32b7",
   "metadata": {},
   "outputs": [],
   "source": [
    "n = 6\n",
    "k = 10000\n",
    "X = np.zeros((1, n))\n",
    "\n",
    "state = np.random.RandomState(1950)\n",
    "_Sigma = np.identity(n)\n",
    "for i in range(n):\n",
    "    for j in range(i):\n",
    "        _Sigma[i, j] = _Sigma[j, i] = state.uniform(-0.2, 0.2)\n",
    "X = np.vstack([X, state.multivariate_normal(np.zeros(n), _Sigma, size=k)])\n",
    "for _ in range(4):\n",
    "    scale = state.uniform(0.5, 1.5, size=n)\n",
    "    loc = state.uniform(-3.0, 3.0, size=n)\n",
    "    X = np.vstack([X, state.normal(loc=loc, scale=scale, size=(k, n))])\n",
    "X = X - np.mean(X, axis=0)"
   ]
  },
  {
   "cell_type": "code",
   "execution_count": null,
   "id": "83e58e83-bf7b-4a3a-b1f6-79e4407447c7",
   "metadata": {},
   "outputs": [],
   "source": [
    "dims = [\"x\", \"px\", \"y\", \"py\", \"z\", \"pz\"]"
   ]
  },
  {
   "cell_type": "markdown",
   "id": "12c1fb46-2f83-41f2-aae7-e6fd97ed08a6",
   "metadata": {},
   "source": [
    "## Corner plot "
   ]
  },
  {
   "cell_type": "code",
   "execution_count": null,
   "id": "d4da4328-072f-40e2-996c-de1cb83a991f",
   "metadata": {},
   "outputs": [],
   "source": [
    "# alpha = 0.5\n",
    "# cmaps = [pplt.Colormap(name, left=0.2) for name in ['blues', 'reds']]\n",
    "# diag_colors = [cmap(0.75) for cmap in cmaps]\n",
    "# diag_kind = 'step'\n",
    "\n",
    "# axes = psp.corner(\n",
    "#     data=X, \n",
    "#     bins='auto',\n",
    "#     kind='hist',\n",
    "#     diag_kind=diag_kind,\n",
    "#     labels=dims,\n",
    "#     diag_kws=dict(color=diag_colors[0], alpha=alpha),\n",
    "#     cmap=cmaps[0],\n",
    "#     alpha=alpha,\n",
    "#     rms_ellipse=True,\n",
    "#     rms_ellipse_kws=dict(level=2.0, color=diag_colors[0], alpha=0.5),\n",
    "# )\n",
    "\n",
    "# R = ap.phase_adv_mat(np.radians(45.0), np.radians(20.0), np.radians(10.0))\n",
    "# axes = psp.corner(\n",
    "#     data=(psb.apply(R, X) + state.uniform(-3.0, 3.0, size=(1, X.shape[1]))),\n",
    "#     axes=axes,\n",
    "#     diag_kind=diag_kind,\n",
    "#     diag_kws=dict(color=diag_colors[1], alpha=alpha),\n",
    "#     autolim_kws=dict(),\n",
    "#     cmap=cmaps[1],\n",
    "#     alpha=alpha,\n",
    "#     rms_ellipse=True,\n",
    "#     rms_ellipse_kws=dict(level=2.0, color=diag_colors[1], alpha=0.5),\n",
    "# )"
   ]
  },
  {
   "cell_type": "markdown",
   "id": "6859634b-ba3a-42e2-9710-b7814f2d6225",
   "metadata": {},
   "source": [
    "## Interactive slicing"
   ]
  },
  {
   "cell_type": "code",
   "execution_count": null,
   "id": "65724f81-28f7-49f9-93b6-f1f9ea91619f",
   "metadata": {},
   "outputs": [],
   "source": [
    "importlib.reload(psv.discrete)"
   ]
  },
  {
   "cell_type": "code",
   "execution_count": null,
   "id": "e869c1f6-bba6-49d1-818e-fee8915c5eb3",
   "metadata": {},
   "outputs": [],
   "source": [
    "kws = dict(\n",
    "    cmap=pplt.Colormap('blues', left=0.05),\n",
    "    profx=True, profy=True,\n",
    "    prof_kws=dict(color='black'),\n",
    "    process_kws=dict(norm='max'),\n",
    ")\n",
    "psv.discrete.plot2d_interactive_slice(X, dims=dims, **kws)"
   ]
  },
  {
   "cell_type": "markdown",
   "id": "cc0b7e4a-ff8a-4f11-a4f2-78bb59c380b3",
   "metadata": {},
   "source": [
    "## 2D plotting"
   ]
  },
  {
   "cell_type": "code",
   "execution_count": null,
   "id": "9112f102-25d2-4032-91b4-ccc64ed35a3d",
   "metadata": {},
   "outputs": [],
   "source": [
    "axis = (0, 1)\n",
    "X = ps.discrete.downsample(X, 1000)"
   ]
  },
  {
   "cell_type": "code",
   "execution_count": null,
   "id": "283b7de8-efaa-4821-a778-3816da08b3ef",
   "metadata": {},
   "outputs": [],
   "source": [
    "cmap = pplt.Colormap('blues', left=0.05, right=1.0)\n",
    "\n",
    "fig, axs = pplt.subplots(ncols=3, figwidth=6.0)\n",
    "for ax, kind in zip(axs, ['scatter', 'hist', 'kde']):\n",
    "    kws = dict()\n",
    "    if kind == 'scatter':\n",
    "        kws['c'] = cmap(0.9)\n",
    "    else:\n",
    "        kws['cmap'] = cmap\n",
    "    psv.discrete.plot2d(\n",
    "        X[:, axis], ax=ax, kind=kind,\n",
    "        rms_ellipse=True, \n",
    "        rms_ellipse_kws=dict(color='red'),\n",
    "        **kws\n",
    "    )\n",
    "    ax.format(title=kind)"
   ]
  },
  {
   "cell_type": "code",
   "execution_count": null,
   "id": "6bc341f7-925f-4669-b05d-6372708944ab",
   "metadata": {},
   "outputs": [],
   "source": [
    "fig, ax = pplt.subplots()\n",
    "psv.discrete.plot2d(X, ax=ax, kind='scatter', c='grey')\n",
    "\n",
    "fractions = np.linspace(0.10, 1.0, 3)\n",
    "cmap = pplt.Colormap('blues', left=0.2, reverse=True)\n",
    "for fraction in fractions:\n",
    "    level = ps.discrete.enclosing_ellipsoid(X[:, axis], fraction=fraction)\n",
    "    psv.discrete.plot_rms_ellipse(\n",
    "        X, ax=ax, level=level, \n",
    "        color=cmap(fraction), \n",
    "        lw=1.5,\n",
    "        label=f'{(100.0 * fraction):.0f}%',\n",
    "    )\n",
    "ax.legend(loc='t', ncols=3, framealpha=0)\n",
    "plt.show()"
   ]
  },
  {
   "cell_type": "markdown",
   "id": "fa4a6203-42b5-4c85-94d2-074ef7914371",
   "metadata": {},
   "source": [
    "Radial density."
   ]
  },
  {
   "cell_type": "code",
   "execution_count": null,
   "id": "4d5a8299-6ea0-488d-ba97-ad411c89fb85",
   "metadata": {},
   "outputs": [],
   "source": [
    "rmin = 2.0\n",
    "rmax = 3.0\n",
    "_X = ps.discrete.slice_sphere(X, axis=(0, 1), rmin=rmin, rmax=rmax)\n",
    "\n",
    "fig, ax = pplt.subplots()\n",
    "psv.discrete.plot2d(X, ax=ax, kind='scatter', c='grey')\n",
    "psv.discrete.plot2d(_X, ax=ax, kind='scatter', c='red')\n",
    "for r in [rmin, rmax]:\n",
    "    psv.circle(r, ax=ax)"
   ]
  },
  {
   "cell_type": "code",
   "execution_count": null,
   "id": "f13775e5-9594-494e-b991-7690689f345c",
   "metadata": {},
   "outputs": [],
   "source": [
    "rmin = 1.0\n",
    "rmax = 1.5\n",
    "_X = ps.discrete.slice_ellipsoid(X, axis=(0, 1), rmin=rmin, rmax=rmax)\n",
    "\n",
    "fig, ax = pplt.subplots()\n",
    "psv.discrete.plot2d(X, ax=ax, kind='scatter', c='grey')\n",
    "psv.discrete.plot2d(_X, ax=ax, kind='scatter', c='red')\n",
    "for r in [rmin, rmax]:\n",
    "    psv.discrete.plot_rms_ellipse(X, level=r, ax=ax)"
   ]
  },
  {
   "cell_type": "code",
   "execution_count": null,
   "id": "45508050-6843-47d7-bc14-4951453d6b77",
   "metadata": {},
   "outputs": [],
   "source": []
  }
 ],
 "metadata": {
  "kernelspec": {
   "display_name": "Python 3 (ipykernel)",
   "language": "python",
   "name": "python3"
  },
  "language_info": {
   "codemirror_mode": {
    "name": "ipython",
    "version": 3
   },
   "file_extension": ".py",
   "mimetype": "text/x-python",
   "name": "python",
   "nbconvert_exporter": "python",
   "pygments_lexer": "ipython3",
   "version": "3.8.10"
  }
 },
 "nbformat": 4,
 "nbformat_minor": 5
}
