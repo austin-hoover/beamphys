{
 "cells": [
  {
   "cell_type": "markdown",
   "id": "8159d6d0-2664-4e00-bcd8-b5b7cb772ec3",
   "metadata": {},
   "source": [
    "# Histogram sampling"
   ]
  },
  {
   "cell_type": "code",
   "execution_count": null,
   "id": "c0943dc9-2753-4978-ba86-8e9e48597141",
   "metadata": {},
   "outputs": [],
   "source": [
    "import os\n",
    "import sys\n",
    "\n",
    "from matplotlib import pyplot as plt\n",
    "import numpy as np\n",
    "import proplot as pplt\n",
    "\n",
    "sys.path.append(\"..\")\n",
    "import psdist as ps\n",
    "import psdist.visualization as psv\n",
    "\n",
    "pplt.rc[\"cmap.discrete\"] = False\n",
    "pplt.rc[\"cmap.sequential\"] = \"viridis\"\n",
    "pplt.rc[\"figure.facecolor\"] = \"white\"\n",
    "pplt.rc[\"grid\"] = False"
   ]
  },
  {
   "cell_type": "markdown",
   "id": "1736036e-479c-439e-996f-4785cadaddb7",
   "metadata": {},
   "source": [
    "Create distribution."
   ]
  },
  {
   "cell_type": "code",
   "execution_count": null,
   "id": "b7cbad5a-b3ec-4eea-b95f-25c6d75f4b19",
   "metadata": {},
   "outputs": [],
   "source": [
    "d = 6\n",
    "n = int(1e4)\n",
    "dims = [\"x\", \"px\", \"y\", \"py\", \"z\", \"pz\"]\n",
    "\n",
    "state = np.random.default_rng(1241)\n",
    "_Sigma = np.identity(d)\n",
    "for i in range(d):\n",
    "    for j in range(i):\n",
    "        _Sigma[i, j] = _Sigma[j, i] = state.uniform(-0.2, 0.2)\n",
    "X = state.multivariate_normal(np.zeros(d), _Sigma, size=n)\n",
    "for _ in range(4):\n",
    "    scale = state.uniform(0.5, 1.5, size=d)\n",
    "    loc = state.uniform(-3.0, 3.0, size=d)\n",
    "    X = np.vstack([X, state.normal(loc=loc, scale=scale, size=(n, d))])\n",
    "X = X - np.mean(X, axis=0)"
   ]
  },
  {
   "cell_type": "code",
   "execution_count": null,
   "id": "ef1be0b0-1bc2-4cc1-8c11-6fc0936a5b3c",
   "metadata": {},
   "outputs": [],
   "source": [
    "limits = psv.points.auto_limits(X)\n",
    "psv.points.corner(\n",
    "    X, \n",
    "    bins=50, \n",
    "    limits=limits, \n",
    "    grid_kws=dict(figwidth=7.0), \n",
    "    cmap=pplt.Colormap(\"mono\", left=0.05), \n",
    ")\n",
    "plt.show()"
   ]
  },
  {
   "cell_type": "markdown",
   "id": "a85bd3b0-b4bc-4a37-b6d6-141e54270c42",
   "metadata": {},
   "source": [
    "Compute histogram."
   ]
  },
  {
   "cell_type": "code",
   "execution_count": null,
   "id": "40da27dc-8a23-48a5-bbe5-59c62f5f35f3",
   "metadata": {},
   "outputs": [],
   "source": [
    "n_bins = 30\n",
    "hist, coords = ps.points.histogram(X, bins=n_bins, limits=limits, centers=True)\n",
    "print(\"hist.size =\", hist.size)"
   ]
  },
  {
   "cell_type": "markdown",
   "id": "6ab248d1-3b4d-4317-acb0-cb7e36e18eed",
   "metadata": {},
   "source": [
    "Sample from histogram."
   ]
  },
  {
   "cell_type": "code",
   "execution_count": null,
   "id": "dded0f2a-cc16-473a-9af8-000f8b301c93",
   "metadata": {},
   "outputs": [],
   "source": [
    "n_samples = int(1e5)\n",
    "X_sample = ps.image.sample_hist(hist, coords=coords, samples=int(n_samples))"
   ]
  },
  {
   "cell_type": "code",
   "execution_count": null,
   "id": "167f5afb-9781-4cc1-a62a-9feef415580d",
   "metadata": {},
   "outputs": [],
   "source": [
    "grid = psv.CornerGrid(d=6, figwidth=7.0)\n",
    "grid.plot_image(hist, coords=coords, cmap=pplt.Colormap(\"mono\"))\n",
    "grid.plot_points(\n",
    "    X_sample[:500, :], \n",
    "    kind=\"scatter\", \n",
    "    color=\"red\", \n",
    "    s=0.5, \n",
    "    diag_kws=dict(color=\"red\")\n",
    ")"
   ]
  },
  {
   "cell_type": "markdown",
   "id": "50636f9c-4b87-4a0c-a885-ab6173fde318",
   "metadata": {},
   "source": [
    "Compute sparse histogram."
   ]
  },
  {
   "cell_type": "code",
   "execution_count": null,
   "id": "169e7ae9-da51-4439-a02f-b2c1a2be71ac",
   "metadata": {},
   "outputs": [],
   "source": [
    "nonzero_indices, nonzero_counts, nonzero_coords = ps.points.sparse_histogram(X, bins=n_bins, limits=limits, centers=True)\n",
    "print(\"sparse_hist.size =\", len(nonzero_counts))"
   ]
  },
  {
   "cell_type": "markdown",
   "id": "57c863b9-6867-485f-a16e-0bf3600e0fa3",
   "metadata": {},
   "source": [
    "Sample from sparse histogram."
   ]
  },
  {
   "cell_type": "code",
   "execution_count": null,
   "id": "22b67d27-89d7-425a-b4c5-02f609101e6d",
   "metadata": {},
   "outputs": [],
   "source": [
    "X_sample_sparse = ps.image.sample_sparse_hist(\n",
    "    indices=nonzero_indices, \n",
    "    counts=nonzero_counts, \n",
    "    coords=nonzero_coords, \n",
    "    samples=n_samples,\n",
    ")"
   ]
  },
  {
   "cell_type": "code",
   "execution_count": null,
   "id": "fbef37fc-2734-4d97-b3a6-3ef83427c0d0",
   "metadata": {},
   "outputs": [],
   "source": [
    "grid = psv.CornerGrid(d=6, figwidth=7.0)\n",
    "grid.plot_image(hist, coords=coords, cmap=pplt.Colormap(\"mono\"))\n",
    "grid.plot_points(\n",
    "    X_sample_sparse[:500, :], \n",
    "    kind=\"scatter\", \n",
    "    color=\"red\", \n",
    "    s=0.5, \n",
    "    diag_kws=dict(color=\"red\")\n",
    ")"
   ]
  },
  {
   "cell_type": "markdown",
   "id": "8363afeb-b87d-4e2c-8a3d-800adde19a35",
   "metadata": {},
   "source": [
    "Compare sparse and regular histogram samples."
   ]
  },
  {
   "cell_type": "code",
   "execution_count": null,
   "id": "774a7770-b7ba-48a8-93a2-a07253a40466",
   "metadata": {},
   "outputs": [],
   "source": [
    "grid = psv.CornerGrid(d=6, figwidth=7.0)\n",
    "for color, _X in zip([\"blue5\", \"red5\"], [X_sample, X_sample_sparse]):\n",
    "    grid.plot_points(\n",
    "        _X[:, :], \n",
    "        bins=30, \n",
    "        autolim_kws=dict(pad=-0.25),\n",
    "        kind=\"contour\", \n",
    "        process_kws=dict(norm=\"max\", blur_sigma=1.0), \n",
    "        diag_kws=dict(color=color, lw=0.75),\n",
    "        levels=np.linspace(0.0, 1.0, 7, endpoint=False)[1:],\n",
    "        colors=color, \n",
    "        lw=0.75,\n",
    "    )"
   ]
  },
  {
   "cell_type": "code",
   "execution_count": null,
   "id": "6b01f4e0-f445-4223-a76c-7cf05953f6e7",
   "metadata": {},
   "outputs": [],
   "source": []
  }
 ],
 "metadata": {
  "kernelspec": {
   "display_name": "psdist",
   "language": "python",
   "name": "psdist"
  },
  "language_info": {
   "codemirror_mode": {
    "name": "ipython",
    "version": 3
   },
   "file_extension": ".py",
   "mimetype": "text/x-python",
   "name": "python",
   "nbconvert_exporter": "python",
   "pygments_lexer": "ipython3",
   "version": "3.8.10"
  }
 },
 "nbformat": 4,
 "nbformat_minor": 5
}
