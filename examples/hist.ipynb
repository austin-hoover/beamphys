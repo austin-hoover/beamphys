{
 "cells": [
  {
   "cell_type": "markdown",
   "id": "8159d6d0-2664-4e00-bcd8-b5b7cb772ec3",
   "metadata": {},
   "source": [
    "# Histogram sampling"
   ]
  },
  {
   "cell_type": "code",
   "execution_count": null,
   "id": "c0943dc9-2753-4978-ba86-8e9e48597141",
   "metadata": {},
   "outputs": [],
   "source": [
    "import matplotlib.pyplot as plt\n",
    "import numpy as np\n",
    "import proplot as pplt\n",
    "\n",
    "import psdist as ps\n",
    "import psdist.visualization as psv"
   ]
  },
  {
   "cell_type": "code",
   "execution_count": null,
   "id": "aa88e72f-8ca0-4b4c-bfb5-79bfe735699f",
   "metadata": {},
   "outputs": [],
   "source": [
    "pplt.rc[\"cmap.discrete\"] = False\n",
    "pplt.rc[\"cmap.sequential\"] = \"viridis\"\n",
    "pplt.rc[\"figure.facecolor\"] = \"white\"\n",
    "pplt.rc[\"grid\"] = False"
   ]
  },
  {
   "cell_type": "markdown",
   "id": "1736036e-479c-439e-996f-4785cadaddb7",
   "metadata": {},
   "source": [
    "Create distribution."
   ]
  },
  {
   "cell_type": "code",
   "execution_count": null,
   "id": "b7cbad5a-b3ec-4eea-b95f-25c6d75f4b19",
   "metadata": {},
   "outputs": [],
   "source": [
    "ndim = 6\n",
    "size = 10_000\n",
    "dims = [\"x\", \"px\", \"y\", \"py\", \"z\", \"pz\"]\n",
    "\n",
    "state = np.random.default_rng(1241)\n",
    "cov = np.identity(ndim)\n",
    "for i in range(ndim):\n",
    "    for j in range(i):\n",
    "        cov[i, j] = cov[j, i] = state.uniform(-0.2, 0.2)\n",
    "        \n",
    "points = state.multivariate_normal(np.zeros(ndim), cov, size=size)\n",
    "for _ in range(4):\n",
    "    scale = state.uniform(0.5, 1.5, size=ndim)\n",
    "    loc = state.uniform(-3.0, 3.0, size=ndim)\n",
    "    points = np.vstack([points, state.normal(loc=loc, scale=scale, size=(size, ndim))])\n",
    "points -= np.mean(points, axis=0)\n",
    "\n",
    "points_true = points.copy()"
   ]
  },
  {
   "cell_type": "code",
   "execution_count": null,
   "id": "ef1be0b0-1bc2-4cc1-8c11-6fc0936a5b3c",
   "metadata": {},
   "outputs": [],
   "source": [
    "limits = ps.points.limits(points_true)\n",
    "\n",
    "grid = psv.points.corner(\n",
    "    points_true, \n",
    "    bins=50, \n",
    "    limits=limits, \n",
    "    grid_kws=dict(figwidth=7.0), \n",
    "    cmap=pplt.Colormap(\"mono\", left=0.05), \n",
    ")\n",
    "plt.show()"
   ]
  },
  {
   "cell_type": "markdown",
   "id": "a85bd3b0-b4bc-4a37-b6d6-141e54270c42",
   "metadata": {},
   "source": [
    "Compute histogram."
   ]
  },
  {
   "cell_type": "code",
   "execution_count": null,
   "id": "40da27dc-8a23-48a5-bbe5-59c62f5f35f3",
   "metadata": {},
   "outputs": [],
   "source": [
    "n_bins = 30\n",
    "hist, edges = np.histogramdd(points_true, bins=n_bins, range=limits)\n",
    "coords = ps.utils.coords_list_from_edges_list(edges)\n",
    "print(\"hist.size =\", hist.size)"
   ]
  },
  {
   "cell_type": "markdown",
   "id": "6ab248d1-3b4d-4317-acb0-cb7e36e18eed",
   "metadata": {},
   "source": [
    "Sample from histogram."
   ]
  },
  {
   "cell_type": "code",
   "execution_count": null,
   "id": "dded0f2a-cc16-473a-9af8-000f8b301c93",
   "metadata": {},
   "outputs": [],
   "source": [
    "n_samples = 100_000\n",
    "points_samp = ps.image.sample(hist, edges=edges, size=n_samples)"
   ]
  },
  {
   "cell_type": "code",
   "execution_count": null,
   "id": "167f5afb-9781-4cc1-a62a-9feef415580d",
   "metadata": {},
   "outputs": [],
   "source": [
    "grid = psv.CornerGrid(d=6, figwidth=7.0)\n",
    "grid.plot_image(hist, coords=coords, cmap=pplt.Colormap(\"mono\"))\n",
    "grid.plot_points(\n",
    "    points_samp[:500, :], \n",
    "    kind=\"scatter\", \n",
    "    color=\"red\", \n",
    "    s=0.5, \n",
    "    diag_kws=dict(color=\"red\")\n",
    ")"
   ]
  },
  {
   "cell_type": "markdown",
   "id": "50636f9c-4b87-4a0c-a885-ab6173fde318",
   "metadata": {},
   "source": [
    "Compute sparse histogram."
   ]
  },
  {
   "cell_type": "code",
   "execution_count": null,
   "id": "169e7ae9-da51-4439-a02f-b2c1a2be71ac",
   "metadata": {},
   "outputs": [],
   "source": [
    "(nonzero_indices, nonzero_counts, nonzero_edges) = ps.points.sparse_histogram(points, bins=n_bins, limits=limits)\n",
    "print(\"sparse_hist.size =\", len(nonzero_counts))"
   ]
  },
  {
   "cell_type": "markdown",
   "id": "57c863b9-6867-485f-a16e-0bf3600e0fa3",
   "metadata": {},
   "source": [
    "Sample from sparse histogram."
   ]
  },
  {
   "cell_type": "code",
   "execution_count": null,
   "id": "22b67d27-89d7-425a-b4c5-02f609101e6d",
   "metadata": {},
   "outputs": [],
   "source": [
    "points_samp_sparse = ps.image.sample_sparse(\n",
    "    indices=nonzero_indices, \n",
    "    values=nonzero_counts, \n",
    "    edges=nonzero_edges, \n",
    "    size=n_samples,\n",
    ")"
   ]
  },
  {
   "cell_type": "code",
   "execution_count": null,
   "id": "fbef37fc-2734-4d97-b3a6-3ef83427c0d0",
   "metadata": {},
   "outputs": [],
   "source": [
    "grid = psv.CornerGrid(d=6, figwidth=7.0)\n",
    "grid.plot_image(hist, coords=coords, cmap=pplt.Colormap(\"mono\"))\n",
    "grid.plot_points(\n",
    "    points_samp_sparse[:500, :], \n",
    "    kind=\"scatter\", \n",
    "    color=\"red\", \n",
    "    s=0.5, \n",
    "    diag_kws=dict(color=\"red\")\n",
    ")"
   ]
  },
  {
   "cell_type": "markdown",
   "id": "8363afeb-b87d-4e2c-8a3d-800adde19a35",
   "metadata": {},
   "source": [
    "Compare sparse and regular histogram samples."
   ]
  },
  {
   "cell_type": "code",
   "execution_count": null,
   "id": "774a7770-b7ba-48a8-93a2-a07253a40466",
   "metadata": {},
   "outputs": [],
   "source": [
    "grid = psv.CornerGrid(d=6, figwidth=7.0)\n",
    "for i, points in enumerate([points_samp, points_samp_sparse]):\n",
    "    color = [\"blue5\", \"red5\"][i]\n",
    "    ls = [\"-\", \"--\"][i]\n",
    "\n",
    "    grid.plot_points(\n",
    "        points,\n",
    "        bins=30, \n",
    "        autolim_kws=dict(pad=-0.10),\n",
    "        kind=\"contour\", \n",
    "        process_kws=dict(norm=\"max\", blur=1.0), \n",
    "        diag_kws=dict(color=color, ls=ls),\n",
    "        \n",
    "        levels=np.linspace(0.0, 1.0, 7, endpoint=False)[1:],\n",
    "        colors=color,\n",
    "        lw=1.0,\n",
    "        ls=ls\n",
    "    )"
   ]
  },
  {
   "cell_type": "code",
   "execution_count": null,
   "id": "6b01f4e0-f445-4223-a76c-7cf05953f6e7",
   "metadata": {},
   "outputs": [],
   "source": []
  }
 ],
 "metadata": {
  "kernelspec": {
   "display_name": "ps-dist",
   "language": "python",
   "name": "ps-dist"
  },
  "language_info": {
   "codemirror_mode": {
    "name": "ipython",
    "version": 3
   },
   "file_extension": ".py",
   "mimetype": "text/x-python",
   "name": "python",
   "nbconvert_exporter": "python",
   "pygments_lexer": "ipython3",
   "version": "3.11.9"
  }
 },
 "nbformat": 4,
 "nbformat_minor": 5
}
