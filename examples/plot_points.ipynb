{
 "cells": [
  {
   "cell_type": "markdown",
   "id": "af50200e-4ebb-407c-8847-04df44913efd",
   "metadata": {},
   "source": [
    "# ND bunch/point cloud analysis"
   ]
  },
  {
   "cell_type": "code",
   "execution_count": null,
   "id": "8c08e571-9127-48ae-883b-e81bb7d6391a",
   "metadata": {
    "tags": []
   },
   "outputs": [],
   "source": [
    "import numpy as np\n",
    "import matplotlib.pyplot as plt\n",
    "import ultraplot as uplt\n",
    "from ipywidgets import interact\n",
    "from ipywidgets import widgets\n",
    "\n",
    "import psdist as ps\n",
    "import psdist.plot as psv"
   ]
  },
  {
   "cell_type": "code",
   "execution_count": null,
   "id": "f3fbaf18-75a6-4a17-92b4-a879ef1f546e",
   "metadata": {
    "tags": []
   },
   "outputs": [],
   "source": [
    "uplt.rc[\"cmap.discrete\"] = False\n",
    "uplt.rc[\"colorbar.width\"] = \"1.2em\"\n",
    "uplt.rc[\"cycle\"] = \"538\"\n",
    "uplt.rc[\"cmap.sequential\"] = \"viridis\"\n",
    "uplt.rc[\"figure.facecolor\"] = \"white\"\n",
    "uplt.rc[\"grid\"] = False"
   ]
  },
  {
   "cell_type": "markdown",
   "id": "1f203834-79e9-477d-b922-411b32e6c136",
   "metadata": {},
   "source": [
    "## Make distribution"
   ]
  },
  {
   "cell_type": "code",
   "execution_count": null,
   "id": "74c67c77-fa8a-4dc6-8c2f-f63442641024",
   "metadata": {},
   "outputs": [],
   "source": [
    "def gen_points(ndim: int, size: int, seed: int = 0) -> np.ndarray:    \n",
    "    rng = np.random.default_rng(seed)\n",
    "    \n",
    "    cov_matrix = np.identity(ndim)\n",
    "    for i in range(ndim):\n",
    "        for j in range(i):\n",
    "            cov_matrix[i, j] = cov_matrix[j, i] = rng.uniform(-0.2, 0.2)\n",
    "    \n",
    "    points = rng.multivariate_normal(np.zeros(ndim), cov_matrix, size=size)\n",
    "    for _ in range(4):\n",
    "        loc = rng.uniform(-3.0, +3.0, size=ndim)\n",
    "        scale = rng.uniform(+0.5, +1.5, size=ndim)\n",
    "        points = np.vstack([points, rng.normal(loc=loc, scale=scale, size=(size, ndim))])\n",
    "\n",
    "    points = points - np.mean(points, axis=0)\n",
    "    return points"
   ]
  },
  {
   "cell_type": "markdown",
   "id": "cc0b7e4a-ff8a-4f11-a4f2-78bb59c380b3",
   "metadata": {},
   "source": [
    "## 2D plotting"
   ]
  },
  {
   "cell_type": "code",
   "execution_count": null,
   "id": "7cd56d18-d3c3-41f9-b34c-3d9979ac32b7",
   "metadata": {
    "tags": []
   },
   "outputs": [],
   "source": [
    "points = gen_points(ndim=6, size=1000, seed=0)\n",
    "points = points[:, (0, 1)]\n",
    "dims = [\"x\", \"px\"]"
   ]
  },
  {
   "cell_type": "code",
   "execution_count": null,
   "id": "283b7de8-efaa-4821-a778-3816da08b3ef",
   "metadata": {
    "tags": []
   },
   "outputs": [],
   "source": [
    "cmap = uplt.Colormap(\"mono\", left=0.1)\n",
    "kinds = [\"scatter\", \"hist\", \"contour\", \"contourf\", \"kde\"]\n",
    "\n",
    "fig, axs = uplt.subplots(ncols=len(kinds), figwidth=8.0)\n",
    "for ax, kind in zip(axs, kinds):\n",
    "    kws = dict()\n",
    "    if kind == \"scatter\":\n",
    "        kws[\"c\"] = cmap(1.0)\n",
    "        kws[\"s\"] = 1.0\n",
    "    else:\n",
    "        kws[\"cmap\"] = cmap\n",
    "\n",
    "    if kind == \"kde\":\n",
    "        kws[\"bins\"] = 100\n",
    "        \n",
    "    psv.points.plot(\n",
    "        points,\n",
    "        ax=ax,\n",
    "        kind=kind,\n",
    "        rms_ellipse=True,\n",
    "        rms_ellipse_kws=dict(level=2.0, color=\"red\"),\n",
    "        **kws,\n",
    "    )\n",
    "    ax.format(title=kind)\n",
    "axs.format(xlabel=dims[0], ylabel=dims[1])\n",
    "plt.show()"
   ]
  },
  {
   "cell_type": "markdown",
   "id": "90bbd6e9-dd16-42a1-9ae7-041db294be49",
   "metadata": {},
   "source": [
    "### Enclosing sphere/ellipsoid "
   ]
  },
  {
   "cell_type": "code",
   "execution_count": null,
   "id": "6bc341f7-925f-4669-b05d-6372708944ab",
   "metadata": {
    "tags": []
   },
   "outputs": [],
   "source": [
    "fig, ax = uplt.subplots(figwidth=None)\n",
    "psv.points.plot(points, ax=ax, kind=\"scatter\", c=\"gray\", s=3.0)\n",
    "\n",
    "fractions = np.linspace(0.10, 1.0, 3)\n",
    "cmap = uplt.Colormap(\"reds\", left=0.2, reverse=True)\n",
    "for fraction in fractions:\n",
    "    level = ps.points.enclosing_ellipsoid_radius(points, fraction=fraction)\n",
    "    psv.points.plot_rms_ellipse(\n",
    "        points,\n",
    "        ax=ax,\n",
    "        level=level,\n",
    "        color=cmap(fraction),\n",
    "        lw=1.5,\n",
    "        label=f\"{(100.0 * fraction):.0f}%\",\n",
    "    )\n",
    "ax.legend(loc=\"t\", ncols=3, framealpha=0)\n",
    "ax.format(xlabel=dims[0], ylabel=dims[1])\n",
    "plt.show()"
   ]
  },
  {
   "cell_type": "markdown",
   "id": "766c291d-f91c-4fb3-acae-b50bd81582d0",
   "metadata": {},
   "source": [
    "### Spherical and ellipsoidal shell slices "
   ]
  },
  {
   "cell_type": "code",
   "execution_count": null,
   "id": "4d5a8299-6ea0-488d-ba97-ad411c89fb85",
   "metadata": {
    "tags": []
   },
   "outputs": [],
   "source": [
    "rmin = 2.0\n",
    "rmax = 3.0\n",
    "points_slice = ps.points.slice_sphere(points, rmin=rmin, rmax=rmax)\n",
    "\n",
    "fig, ax = uplt.subplots(figwidth=None)\n",
    "psv.points.plot(points,       ax=ax, kind=\"scatter\", color=\"grey\")\n",
    "psv.points.plot(points_slice, ax=ax, kind=\"scatter\", color=\"red\")\n",
    "for r in [rmin, rmax]:\n",
    "    psv.plot_circle(r=r, ax=ax)\n",
    "ax.format(xlabel=dims[0], ylabel=dims[1])\n",
    "plt.show()"
   ]
  },
  {
   "cell_type": "code",
   "execution_count": null,
   "id": "f13775e5-9594-494e-b991-7690689f345c",
   "metadata": {
    "tags": []
   },
   "outputs": [],
   "source": [
    "rmin = 1.0\n",
    "rmax = 1.5\n",
    "points_slice = ps.points.slice_ellipsoid(points, rmin=rmin, rmax=rmax)\n",
    "\n",
    "fig, ax = uplt.subplots(figwidth=None)\n",
    "psv.points.plot(points,       ax=ax, kind=\"scatter\", color=\"grey\")\n",
    "psv.points.plot(points_slice, ax=ax, kind=\"scatter\", color=\"red\")\n",
    "for r in [rmin, rmax]:\n",
    "    psv.points.plot_rms_ellipse(points, level=r, ax=ax)\n",
    "ax.format(xlabel=dims[0], ylabel=dims[1])\n",
    "plt.show()"
   ]
  },
  {
   "cell_type": "code",
   "execution_count": null,
   "id": "6cca364d-bc3f-4f8a-8330-d0f179cb202d",
   "metadata": {
    "tags": []
   },
   "outputs": [],
   "source": [
    "@interact(radius=widgets.FloatRangeSlider(min=0.0, max=5.0))\n",
    "def update(radius):\n",
    "    (rmin, rmax) = radius\n",
    "    points_slice = ps.points.slice_ellipsoid(\n",
    "        points, axis=(0, 1), rmin=rmin, rmax=rmax\n",
    "    )\n",
    "\n",
    "    fig, ax = uplt.subplots(figwidth=None)\n",
    "    psv.points.plot(points,       ax=ax, kind=\"scatter\", color=\"grey\")\n",
    "    psv.points.plot(points_slice, ax=ax, kind=\"scatter\", color=\"red\")\n",
    "    for r in [rmin, rmax]:\n",
    "        psv.points.plot_rms_ellipse(points, level=r, ax=ax)\n",
    "    ax.format(xlabel=dims[0], ylabel=dims[1])\n",
    "    plt.show()"
   ]
  },
  {
   "cell_type": "markdown",
   "id": "b9e881f0-41aa-4a47-bb25-cb213af06551",
   "metadata": {},
   "source": [
    "### Contour shell slice"
   ]
  },
  {
   "cell_type": "code",
   "execution_count": null,
   "id": "c9058697-70e6-4c54-94e6-f7a257f5f9c8",
   "metadata": {
    "tags": []
   },
   "outputs": [],
   "source": [
    "points = gen_points(ndim=6, size=1_000_000, seed=0)\n",
    "points = points[:, (0, 1)]\n",
    "    \n",
    "bins = 45\n",
    "\n",
    "fig, ax = uplt.subplots()\n",
    "psv.plot_points(\n",
    "    points,\n",
    "    ax=ax,\n",
    "    kind=\"hist\",\n",
    "    process_kws=dict(scale_max=True),\n",
    "    bins=bins,\n",
    "    cmap=uplt.Colormap(\"mono\", left=0.0, right=1.0),\n",
    "    colorbar=True,\n",
    "    discrete=False,\n",
    ")\n",
    "for lmin, color in zip([0.0, 0.2, 0.8], [\"red3\", \"red7\", \"darkred\"]):\n",
    "    lmax = lmin + 0.15\n",
    "    psv.plot_points(\n",
    "        ps.points.downsample(\n",
    "            ps.points.slice_contour(\n",
    "                points, lmin=lmin, lmax=lmax, hist_kws=dict(bins=bins)\n",
    "            ),\n",
    "            size=1000,\n",
    "        ),\n",
    "        ax=ax,\n",
    "        kind=\"scatter\",\n",
    "        color=color,\n",
    "        s=1.0,\n",
    "    )\n",
    "ax.format(xlabel=dims[0], ylabel=dims[1])\n",
    "plt.show()"
   ]
  },
  {
   "cell_type": "markdown",
   "id": "3df82aef-81eb-4549-9275-1aec51fc9449",
   "metadata": {},
   "source": [
    "### Joint plot "
   ]
  },
  {
   "cell_type": "code",
   "execution_count": null,
   "id": "01a5f994-def9-42e4-8040-a1f114252532",
   "metadata": {
    "tags": []
   },
   "outputs": [],
   "source": [
    "grid = psv.JointGrid(\n",
    "    marg_kws=dict(space=\"2.0em\", width=\"7.0em\"),\n",
    "    marg_fmt_kws_x=dict(yspineloc=\"left\", xspineloc=\"bottom\"),\n",
    "    marg_fmt_kws_y=dict(yspineloc=\"left\", xspineloc=\"bottom\"),\n",
    "    xspineloc=\"bottom\",\n",
    "    yspineloc=\"left\",\n",
    ")\n",
    "grid.plot_points(\n",
    "    points[:, axis],\n",
    "    marg_kws=dict(kind=\"step\", color=\"black\", scale=\"max\"),\n",
    "    marg_hist_kws=dict(bins=75),\n",
    "    kind=\"hist\",\n",
    "    process_kws=dict(norm=\"max\"),\n",
    "    cmap=uplt.Colormap(\"blues\", left=0.0),\n",
    "    discrete=False,\n",
    "    norm=\"log\",\n",
    "    colorbar=True,\n",
    "    colorbar_kw=dict(width=\"1.2em\", tickminor=True),\n",
    ")\n",
    "psv.points.plot(\n",
    "    points[:, axis],\n",
    "    ax=grid.ax,\n",
    "    process_kws=dict(norm=\"max\", blur=5.0),\n",
    "    kind=\"contour\",\n",
    "    levels=[0.001, 0.01, 0.1, 1.0],\n",
    "    colors=\"black\",\n",
    "    lw=0.4,\n",
    ")\n",
    "ymin = 10.0**-5.0\n",
    "ymax = None\n",
    "grid.ax_marg_x.format(yformatter=\"log\", yscale=\"log\", ymin=ymin, ymax=ymax)\n",
    "grid.ax_marg_y.format(xformatter=\"log\", xscale=\"log\", xmin=ymin, xmax=ymax)\n",
    "grid.ax.format(xlabel=_dims[0], ylabel=_dims[1])\n",
    "plt.show()"
   ]
  },
  {
   "cell_type": "markdown",
   "id": "12c1fb46-2f83-41f2-aae7-e6fd97ed08a6",
   "metadata": {},
   "source": [
    "## Corner plot "
   ]
  },
  {
   "cell_type": "code",
   "execution_count": null,
   "id": "21189b37-6656-478b-a4ed-60afb149a086",
   "metadata": {},
   "outputs": [],
   "source": [
    "ndim = 6\n",
    "size = 1_000_000\n",
    "dims = [\"x\", \"px\", \"y\", \"py\", \"z\", \"pz\"]"
   ]
  },
  {
   "cell_type": "code",
   "execution_count": null,
   "id": "78f21b54-0771-4711-924c-f21e602661a3",
   "metadata": {
    "tags": []
   },
   "outputs": [],
   "source": [
    "alpha = 0.5\n",
    "cmaps = [uplt.Colormap(name, left=0.2) for name in [\"blues\", \"reds\", \"greens\"]]\n",
    "colors = [cmap(0.75) for cmap in cmaps]\n",
    "plot_kws = dict(\n",
    "    mask=True,\n",
    "    alpha=alpha,\n",
    "    rms_ellipse=True,\n",
    ")\n",
    "autolim_kws = dict(pad=0.1, zero_center=True)"
   ]
  },
  {
   "cell_type": "code",
   "execution_count": null,
   "id": "2bf07aad-2795-44b4-bf46-85dfb64b19a1",
   "metadata": {
    "tags": []
   },
   "outputs": [],
   "source": [
    "grid = psv.CornerGrid(points.shape[1], diag=True, corner=False, figwidth=7.0)\n",
    "grid.set_labels(dims)\n",
    "\n",
    "X = points.copy()\n",
    "Y = X[:100_000].copy()\n",
    "R = ps.ap.phase_adv_matrix(np.radians(45.0), np.radians(20.0), np.radians(-45.0))\n",
    "for i in range(3):\n",
    "    if i > 0:\n",
    "        Y = ps.points.transform_linear(Y, R)\n",
    "        Y = Y + rng.uniform(-3.5, 3.5, size=(1, Y.shape[1]))\n",
    "        Y[:, 3] += 0.01 * Y[:, 1] ** 3 - 0.0002 * Y[:, 2] ** 4\n",
    "    grid.plot_points(\n",
    "        Y,\n",
    "        kind=\"hist\",\n",
    "        bins=\"auto\",\n",
    "        lower=True,\n",
    "        upper=False,\n",
    "        diag_kws=dict(color=colors[i], alpha=alpha),\n",
    "        cmap=cmaps[i],\n",
    "        **plot_kws,\n",
    "    )\n",
    "    grid.plot_points(\n",
    "        Y,\n",
    "        kind=\"contour\",\n",
    "        bins=25,\n",
    "        lower=False,\n",
    "        upper=True,\n",
    "        diag_kws=dict(alpha=0.0),\n",
    "        cmap=cmaps[i],\n",
    "        **plot_kws,\n",
    "    )\n",
    "plt.show()"
   ]
  },
  {
   "cell_type": "markdown",
   "id": "4d2ace1d-eaa9-42df-9208-818c37ce0128",
   "metadata": {},
   "source": [
    "### Normalized radial histogram"
   ]
  },
  {
   "cell_type": "markdown",
   "id": "8e91a2e3-6908-4558-90cb-c84ba5cfbd51",
   "metadata": {},
   "source": [
    "Normalize by the volume of each spherical shell."
   ]
  },
  {
   "cell_type": "code",
   "execution_count": null,
   "id": "33b48ee7-c6ef-49cb-a217-f8592565cf04",
   "metadata": {},
   "outputs": [],
   "source": [
    "profile, edges = ps.points.radial_histogram(points[:, :4], bins=50)\n",
    "profile = psv.scale_profile(profile, scale=\"max\")\n",
    "coords = ps.utils.coords_from_edges(edges)\n",
    "\n",
    "fig, ax = uplt.subplots()\n",
    "psv.plot_profile(profile, edges=edges, ax=ax, kind=\"step\", color=\"black\", label=\"data\")\n",
    "ax.plot(coords, np.exp(-0.5 * coords**2), color=\"red5\", alpha=0.5, label=\"gaussian\")\n",
    "ax.legend()\n",
    "ax.format(\n",
    "    yscale=\"log\",\n",
    "    yformatter=\"log\",\n",
    "    ymin=0.0001,\n",
    "    xlabel=\"Radius\",\n",
    "    ylabel=\"Normalized density\",\n",
    ")\n",
    "plt.show()"
   ]
  },
  {
   "cell_type": "markdown",
   "id": "9d3fd9c4-0a5d-490b-9a1f-40bb91314ce0",
   "metadata": {},
   "source": [
    "Define $\\mathbf{r} = [x, y, z]^T$, $\\mathbf{r}' = [p_x, p_y, p_z]^T$."
   ]
  },
  {
   "cell_type": "code",
   "execution_count": null,
   "id": "b932fff5-e13d-4bcd-bb9c-80ea2ad0b3e2",
   "metadata": {},
   "outputs": [],
   "source": [
    "r = ps.points.get_radii(X[:, (0, 2, 4)])\n",
    "pr = ps.points.get_radii(X[:, (1, 3, 5)])\n",
    "R = np.vstack([r, pr]).T\n",
    "\n",
    "grid = psv.JointGrid(\n",
    "    marg_kws=dict(space=\"2.0em\", width=\"7.0em\"),\n",
    "    marg_fmt_kws_x=dict(yspineloc=\"left\", xspineloc=\"bottom\", ylabel=\"f(r)\"),\n",
    "    marg_fmt_kws_y=dict(yspineloc=\"left\", xspineloc=\"bottom\", xlabel=\"f(pr)\"),\n",
    ")\n",
    "grid.plot_points(\n",
    "    R,\n",
    "    marg_kws=dict(scale=\"max\", fill=True, color=\"black\", alpha=0.3),\n",
    "    bins=100,\n",
    "    process_kws=dict(norm=\"max\"),\n",
    "    offset=1.0,\n",
    "    N=21,\n",
    "    norm=\"log\",\n",
    "    vmax=1.0,\n",
    "    cmap=\"blues\",\n",
    "    colorbar=True,\n",
    "    colorbar_kw=dict(label=\"f(r, pr)\"),\n",
    ")\n",
    "grid.ax.format(xlabel=\"r\", ylabel=\"pr\")\n",
    "plt.show()"
   ]
  },
  {
   "cell_type": "markdown",
   "id": "1db00e29-95bf-48a9-8181-01263dcd34f6",
   "metadata": {},
   "source": [
    "### Sparse histogram"
   ]
  },
  {
   "cell_type": "code",
   "execution_count": null,
   "id": "991e7a5f-3126-4484-83c4-6390547c65a1",
   "metadata": {},
   "outputs": [],
   "source": [
    "edges = ps.points.histogram_bin_edges(X, bins=6)\n",
    "nonzero_indices, nonzero_counts, nonzero_edges = ps.points.sparse_histogram(\n",
    "    points, bins=edges\n",
    ")\n",
    "print(f\"Nonzero bins from sparse hist: {len(nonzero_counts)}\")"
   ]
  },
  {
   "cell_type": "code",
   "execution_count": null,
   "id": "f7ea9ce7-97bf-43e2-bb5d-a00c044f0d73",
   "metadata": {},
   "outputs": [],
   "source": [
    "hist, _ = ps.points.histogram(points, bins=edges)\n",
    "print(f\"Nonzero bins from hist: {hist[hist > 0].size}\")"
   ]
  },
  {
   "cell_type": "markdown",
   "id": "0cbc7e0d-e888-4432-96c0-453986b4b48e",
   "metadata": {},
   "source": [
    "## Slice matrix plot "
   ]
  },
  {
   "cell_type": "markdown",
   "id": "e3e426f1-5ecf-47d5-bd4c-e71400ddc755",
   "metadata": {},
   "source": [
    "[To do...]"
   ]
  },
  {
   "cell_type": "markdown",
   "id": "6859634b-ba3a-42e2-9710-b7814f2d6225",
   "metadata": {},
   "source": [
    "## Interactive slicing"
   ]
  },
  {
   "cell_type": "markdown",
   "id": "aeebffe2-9b95-4e06-8a2a-35f07ba335ee",
   "metadata": {},
   "source": [
    "### 1D "
   ]
  },
  {
   "cell_type": "code",
   "execution_count": null,
   "id": "f916657e-c40e-4035-8ed6-27280b64fabc",
   "metadata": {},
   "outputs": [],
   "source": [
    "X = points.copy()\n",
    "X = X - np.mean(X, axis=0)\n",
    "Y = Y - np.mean(Y, axis=0)\n",
    "data = [\n",
    "    [Y, X, 2.0 * X],\n",
    "    [X, -Y, -2.0 * Y],\n",
    "]"
   ]
  },
  {
   "cell_type": "code",
   "execution_count": null,
   "id": "94ac25cc-3503-4d5d-9117-c3ea7595d4e7",
   "metadata": {},
   "outputs": [],
   "source": [
    "psv.points.interactive_slice_1d(\n",
    "    data=data,\n",
    "    dims=dims,\n",
    "    slice_type=\"range\",  # {\"int\", \"range\"}\n",
    "    options=dict(\n",
    "        alpha=True,\n",
    "        auto_plot_res=False,\n",
    "        kind=True,\n",
    "        log=True,\n",
    "        normalize=False,\n",
    "        scale=False,\n",
    "    ),\n",
    "    share_limits=False,\n",
    "    legend=True,\n",
    "    labels=None,\n",
    "    cycle=\"538\",\n",
    "    fig_kws=dict(figsize=(5.0, 2.0)),\n",
    ")"
   ]
  },
  {
   "cell_type": "markdown",
   "id": "54ad0e02-e545-4fa7-8197-0d2a4b93572f",
   "metadata": {},
   "source": [
    "### 2D "
   ]
  },
  {
   "cell_type": "code",
   "execution_count": null,
   "id": "e869c1f6-bba6-49d1-818e-fee8915c5eb3",
   "metadata": {
    "tags": []
   },
   "outputs": [],
   "source": [
    "plot_kws = dict(\n",
    "    profx=True,\n",
    "    profy=True,\n",
    "    prof_kws=dict(color=\"white\"),\n",
    "    process_kws=dict(norm=\"max\"),\n",
    "    autolim_kws=dict(pad=0.1),\n",
    "    offset=1.0,\n",
    "    colorbar=True,\n",
    "    colorbar_kw=dict(tickminor=True, width=\"1.2em\"),\n",
    ")"
   ]
  },
  {
   "cell_type": "code",
   "execution_count": null,
   "id": "585f58a8-8e43-4af2-b52d-8a3b3b32a959",
   "metadata": {},
   "outputs": [],
   "source": [
    "psv.points.interactive_slice_2d(\n",
    "    data=data,\n",
    "    limits=None,\n",
    "    share_limits=1,\n",
    "    default_axis=(0, 1),\n",
    "    slice_type=\"range\",\n",
    "    plot_res=64,\n",
    "    slice_res=16,\n",
    "    dims=dims,\n",
    "    units=None,\n",
    "    options=dict(\n",
    "        auto_plot_res=False,\n",
    "        discrete=True,\n",
    "        ellipse=True,\n",
    "        log=True,\n",
    "        mask=False,\n",
    "        normalize=True,\n",
    "        profiles=True,\n",
    "    ),\n",
    "    fig_kws=dict(toplabels=[\"left\", \"right\"], space=6.0),\n",
    "    **plot_kws,\n",
    ")"
   ]
  },
  {
   "cell_type": "code",
   "execution_count": null,
   "id": "a518caf9-0ec4-4403-a5fc-19b67838ee60",
   "metadata": {},
   "outputs": [],
   "source": []
  }
 ],
 "metadata": {
  "kernelspec": {
   "display_name": "psdist",
   "language": "python",
   "name": "psdist"
  },
  "language_info": {
   "codemirror_mode": {
    "name": "ipython",
    "version": 3
   },
   "file_extension": ".py",
   "mimetype": "text/x-python",
   "name": "python",
   "nbconvert_exporter": "python",
   "pygments_lexer": "ipython3",
   "version": "3.11.11"
  }
 },
 "nbformat": 4,
 "nbformat_minor": 5
}
