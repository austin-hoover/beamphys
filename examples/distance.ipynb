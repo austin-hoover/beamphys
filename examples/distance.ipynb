{
 "cells": [
  {
   "cell_type": "code",
   "execution_count": 1,
   "id": "4d3644e8-7648-41ad-b589-c428e3152ded",
   "metadata": {},
   "outputs": [],
   "source": [
    "import sys\n",
    "\n",
    "import ipywidgets\n",
    "import numpy as np\n",
    "import matplotlib.pyplot as plt\n",
    "import proplot as pplt\n",
    "\n",
    "sys.path.append(\"..\")\n",
    "import psdist as ps\n",
    "import psdist.visualization as psv"
   ]
  },
  {
   "cell_type": "code",
   "execution_count": 2,
   "id": "2d3c073a-a45b-4ddc-903c-1186cf0463f0",
   "metadata": {
    "tags": []
   },
   "outputs": [],
   "source": [
    "pplt.rc[\"cmap.discrete\"] = False\n",
    "pplt.rc[\"cmap.sequential\"] = \"viridis\"\n",
    "pplt.rc[\"figure.facecolor\"] = \"white\"\n",
    "pplt.rc[\"grid\"] = False"
   ]
  },
  {
   "cell_type": "code",
   "execution_count": 18,
   "id": "87e6fa64-6f50-4ecf-8fda-aa6c38b5f5e1",
   "metadata": {
    "tags": []
   },
   "outputs": [
    {
     "data": {
      "application/vnd.jupyter.widget-view+json": {
       "model_id": "7dd702c0fb914159883258cd214eeaf9",
       "version_major": 2,
       "version_minor": 0
      },
      "text/plain": [
       "interactive(children=(FloatSlider(value=0.0, description='loc', max=10.0, min=-10.0), FloatSlider(value=1.0, d…"
      ]
     },
     "metadata": {},
     "output_type": "display_data"
    }
   ],
   "source": [
    "n = 10000\n",
    "@ipywidgets.interact(loc=(-10.0, 10.0), scale=(0.1, 10.0), L=(10, 2 * n))\n",
    "def update(loc, scale=1.0, L=100):\n",
    "    X = np.random.normal(size=(n, 2), scale=1.0, loc=0.0)\n",
    "    Y = np.random.normal(size=(n, 2), scale=scale, loc=loc)\n",
    "    distances = [\n",
    "        ps.cloud.maximum_mean_discrepancy(\n",
    "            X, Y, sigma=1.0, \n",
    "            method=method,\n",
    "            L=L,\n",
    "        )\n",
    "        for method in [\"direct\", \"spectral\"]\n",
    "    ]\n",
    "\n",
    "    xmax = 15.0\n",
    "    limits = 2 * [(-xmax, xmax)]\n",
    "    fig, ax = pplt.subplots()\n",
    "    ax.format(xlim=limits[0], ylim=limits[1])\n",
    "    kws = dict(limits=limits)\n",
    "    psv.cloud.plot2d(X, ax=ax, limits=limits, cmap=pplt.Colormap(\"Blues\", left=0.1))\n",
    "    psv.cloud.plot2d(Y, ax=ax, limits=limits, cmap=pplt.Colormap(\"Reds\", left=0.1))\n",
    "    ax.format(title=f\"MMD (direct)     = {distances[0]:.2f}\\nMMD (spectral) = {distances[1]:.2f}\")\n",
    "    plt.show()"
   ]
  },
  {
   "cell_type": "code",
   "execution_count": null,
   "id": "0f5c3103-4934-431e-85dc-06699157afdf",
   "metadata": {},
   "outputs": [],
   "source": []
  }
 ],
 "metadata": {
  "kernelspec": {
   "display_name": "psdist",
   "language": "python",
   "name": "psdist"
  },
  "language_info": {
   "codemirror_mode": {
    "name": "ipython",
    "version": 3
   },
   "file_extension": ".py",
   "mimetype": "text/x-python",
   "name": "python",
   "nbconvert_exporter": "python",
   "pygments_lexer": "ipython3",
   "version": "3.8.10"
  }
 },
 "nbformat": 4,
 "nbformat_minor": 5
}
