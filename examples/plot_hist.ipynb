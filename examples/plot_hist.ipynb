{
 "cells": [
  {
   "cell_type": "markdown",
   "id": "05e4f34d-1f26-4913-ad5b-f042e9b8dab9",
   "metadata": {},
   "source": [
    "# Histogram plotting"
   ]
  },
  {
   "cell_type": "code",
   "execution_count": null,
   "id": "8c08e571-9127-48ae-883b-e81bb7d6391a",
   "metadata": {
    "tags": []
   },
   "outputs": [],
   "source": [
    "import numpy as np\n",
    "import matplotlib.pyplot as plt\n",
    "import ultraplot as uplt\n",
    "from ipywidgets import interact\n",
    "from ipywidgets import widgets\n",
    "\n",
    "import psdist as ps\n",
    "import psdist.plot as psv"
   ]
  },
  {
   "cell_type": "code",
   "execution_count": null,
   "id": "f3fbaf18-75a6-4a17-92b4-a879ef1f546e",
   "metadata": {
    "tags": []
   },
   "outputs": [],
   "source": [
    "uplt.rc[\"cmap.discrete\"] = False\n",
    "uplt.rc[\"cmap.sequential\"] = \"viridis\"\n",
    "uplt.rc[\"colorbar.width\"] = \"1.2em\"\n",
    "uplt.rc[\"figure.facecolor\"] = \"white\"\n",
    "uplt.rc[\"grid\"] = False"
   ]
  },
  {
   "cell_type": "markdown",
   "id": "d50e7213-2d70-4d33-ae70-3cbd467c234d",
   "metadata": {
    "tags": []
   },
   "source": [
    "## 2D histograms"
   ]
  },
  {
   "cell_type": "code",
   "execution_count": null,
   "id": "890e8f6f-9abe-49be-81cd-ce594affb9c7",
   "metadata": {
    "tags": []
   },
   "outputs": [],
   "source": [
    "seed = 1951\n",
    "resolution = 50\n",
    "\n",
    "rng = np.random.default_rng(seed)\n",
    "coords = 2 * [np.linspace(-5.0, 5.0, resolution)]\n",
    "\n",
    "hist = ps.Histogram(coords=coords)\n",
    "X, Y = hist.meshgrid()\n",
    "\n",
    "values = np.zeros((resolution, resolution))\n",
    "for _ in range(4):\n",
    "    loc = rng.uniform(-2.0, +2.0, size=2)\n",
    "    scale = rng.uniform(+0.5, +1.5, size=2)\n",
    "    values += np.exp(\n",
    "        -0.5 * (((X - loc[0]) / scale[0]) ** 2 + ((Y - loc[1]) / scale[1]) ** 2)\n",
    "    )\n",
    "values = values**2\n",
    "hist.values = values\n",
    "\n",
    "hist.values /= hist.values.max()\n",
    "hist.values[hist.values < 0.001] = 0.0"
   ]
  },
  {
   "cell_type": "code",
   "execution_count": null,
   "id": "b40b1484-43a9-431f-a23f-b1adde173238",
   "metadata": {
    "tags": []
   },
   "outputs": [],
   "source": [
    "fig, axs = uplt.subplots(ncols=3, figwidth=8.0)\n",
    "for ax, kind in zip(axs, [\"pcolor\", \"contourf\", \"contour\"]):\n",
    "    psv.plot_hist(\n",
    "        hist,\n",
    "        kind=kind,\n",
    "        process_kws=dict(),\n",
    "        offset=1.0,\n",
    "        offset_type=\"relative\",\n",
    "        mask=False,\n",
    "        profx=True,\n",
    "        profy=True,\n",
    "        prof_kws=dict(kind=\"step\"),\n",
    "        rms_ellipse=False,\n",
    "        rms_ellipse_kws=dict(),\n",
    "        colorbar=True,\n",
    "        colorbar_kw=dict(),\n",
    "        norm=\"log\",\n",
    "        vmax=1.0,\n",
    "        vmin=1.00e-03,\n",
    "        ax=ax,\n",
    "    )"
   ]
  },
  {
   "cell_type": "markdown",
   "id": "92dcd1c5-6287-4da4-ad74-faab4083b57c",
   "metadata": {},
   "source": [
    "### Joint plot "
   ]
  },
  {
   "cell_type": "code",
   "execution_count": null,
   "id": "8413bff8-137c-4e9a-a5f4-41ea30ab588e",
   "metadata": {
    "tags": []
   },
   "outputs": [],
   "source": [
    "grid = psv.JointGrid(\n",
    "    panel_kws=dict(width=0.5),\n",
    "    panel_fmt_kws=None,\n",
    "    panel_fmt_kws_x=None,\n",
    "    panel_fmt_kws_y=None,\n",
    "    figwidth=3.5,\n",
    ")\n",
    "grid.plot_hist(\n",
    "    hist,\n",
    "    panel_plot_kws=dict(scale=\"max\", kind=\"line\"),\n",
    "    norm=\"log\",\n",
    "    vmax=1.0,\n",
    "    cmap=uplt.Colormap(\"greys\", left=0.0, right=0.8),\n",
    ")\n",
    "\n",
    "grid.plot_points(\n",
    "    hist.sample(1_000),\n",
    "    panel_hist_kws=dict(bins=\"auto\"),\n",
    "    panel_plot_kws=dict(scale=\"max\", kind=\"step\", color=\"red\"),\n",
    "    kind=\"scatter\",\n",
    "    s=1.0,\n",
    "    color=\"red\",\n",
    "    label=\"samples\",\n",
    ")\n",
    "grid.ax_panel_x.format(yscale=\"log\", yformatter=\"log\", ymin=0.0001)\n",
    "grid.ax_panel_y.format(xscale=\"log\", xformatter=\"log\", xmin=0.0001)\n",
    "plt.show()"
   ]
  },
  {
   "cell_type": "markdown",
   "id": "cdbcbefc-0d4d-4d17-bb67-f5318f77f8f2",
   "metadata": {},
   "source": [
    "## ND image "
   ]
  },
  {
   "cell_type": "code",
   "execution_count": null,
   "id": "b7284819-ffa3-4198-93bb-77366868e287",
   "metadata": {
    "tags": []
   },
   "outputs": [],
   "source": [
    "# resolution = 50\n",
    "# ndim = 4\n",
    "# xmax = 5.0\n",
    "\n",
    "# rng = np.random.default_rng(123)\n",
    "\n",
    "# dims = [\"x\", \"px\", \"y\", \"py\", \"z\"][:ndim]\n",
    "# pairs = [(i, j) for i in range(ndim) for j in range(i)]\n",
    "\n",
    "# shape = tuple(ndim * [resolution])\n",
    "# coords = ndim * [np.linspace(-xmax, xmax, resolution)]\n",
    "# COORDS = np.meshgrid(*coords, indexing=\"ij\")\n",
    "# R = np.sqrt(np.sum([C**2 for C in COORDS], axis=0))\n",
    "\n",
    "# # Start with gaussian * cosine\n",
    "# values = 0.25 * np.exp(-0.5 * (R / 2.0)) * np.cos(3.0 * R) ** 2\n",
    "# values[R > 4.0] = 0.0\n",
    "# for _ in range(8):\n",
    "#     # Generate a Gaussian distribution with random mean and std.\n",
    "#     loc = rng.uniform(-3.0, +3.0, size=ndim)\n",
    "#     scale = rng.uniform(+0.5, +1.0, size=ndim)\n",
    "#     argument = np.zeros(shape)\n",
    "#     for i in range(ndim):\n",
    "#         argument += ((COORDS[i] - loc[i]) / scale[i]) ** 2\n",
    "\n",
    "#     # Add random linear correlations.\n",
    "#     for i, j in pairs:\n",
    "#         r = rng.uniform(-0.5, 0.5)\n",
    "#         U = (COORDS[i] - loc[i]) / scale[i]\n",
    "#         V = (COORDS[j] - loc[j]) / scale[j]\n",
    "#         argument += r * U * V\n",
    "#     values += np.exp(-0.5 * argument)\n",
    "\n",
    "# values = ps.image.normalize(values, norm=\"max\")\n",
    "# values = ps.image.threshold(values, lmin=0.0001)"
   ]
  },
  {
   "cell_type": "markdown",
   "id": "45a41f87-0fc3-4842-8b2e-1ac032f8c4f4",
   "metadata": {},
   "source": [
    "### Corner plot "
   ]
  },
  {
   "cell_type": "code",
   "execution_count": null,
   "id": "8e7be33c-9971-4d0c-8d07-37637fabb1fa",
   "metadata": {
    "tags": []
   },
   "outputs": [],
   "source": [
    "# kinds = [\"pcolor\", \"contourf\", \"contour\"]\n",
    "# diag_kws = [\n",
    "#     dict(kind=\"step\", fill=False),\n",
    "#     dict(kind=\"line\", fill=False),\n",
    "#     dict(kind=\"line\", fill=True),\n",
    "# ]\n",
    "# diag_shrink = [1.0, 0.8, 1.0]\n",
    "# for i, kind in enumerate(kinds):\n",
    "#     grid = psv.image.corner(\n",
    "#         values,\n",
    "#         coords=coords,\n",
    "#         labels=dims,\n",
    "#         grid_kws=dict(\n",
    "#             corner=(i < 2),\n",
    "#             diag_shrink=diag_shrink[i],\n",
    "#             diag_share=(i != 1),\n",
    "#             diag_rspine=(i < 2),\n",
    "#             space=1.5,\n",
    "#         ),\n",
    "#         diag_kws=diag_kws[i],\n",
    "#         kind=kind,\n",
    "#     )\n",
    "#     plt.show()"
   ]
  },
  {
   "cell_type": "markdown",
   "id": "6cde5bd1-8995-49a8-b93e-e39eea889938",
   "metadata": {},
   "source": [
    "Don't plot diagonals; plot 1D projections on top of 2D projections."
   ]
  },
  {
   "cell_type": "code",
   "execution_count": null,
   "id": "284dc0c2-3c23-4376-a006-e8f3076457ee",
   "metadata": {
    "tags": []
   },
   "outputs": [],
   "source": [
    "# grid = psv.image.corner(\n",
    "#     values,\n",
    "#     coords=coords,\n",
    "#     labels=dims,\n",
    "#     grid_kws=dict(diag=False, space=0.0),\n",
    "#     prof_edge_only=True,\n",
    "#     profx=True,\n",
    "#     profy=True,\n",
    "#     prof_kws=dict(color=\"white\"),\n",
    "# )\n",
    "# grid.axs.format(xspineloc=\"neither\", yspineloc=\"neither\")\n",
    "# plt.show()"
   ]
  },
  {
   "cell_type": "markdown",
   "id": "f8f20397-0622-439f-aa2b-d6d502718430",
   "metadata": {},
   "source": [
    "Use `CornerGrid`; add 1D spines, logarithmic colormap and scaling."
   ]
  },
  {
   "cell_type": "code",
   "execution_count": null,
   "id": "f1f5be19-5cd3-492b-b9d7-8c939efbb5c6",
   "metadata": {
    "tags": []
   },
   "outputs": [],
   "source": [
    "# cmap = uplt.Colormap(\"Blues\")\n",
    "\n",
    "# grid = psv.CornerGrid(\n",
    "#     values.ndim,\n",
    "#     corner=True,\n",
    "#     diag=True,\n",
    "#     diag_share=True,\n",
    "#     space=2.0,\n",
    "#     diag_rspine=True,\n",
    "#     labels=dims,\n",
    "# )\n",
    "# grid.plot_image(\n",
    "#     values,\n",
    "#     coords=coords,\n",
    "#     cmap=cmap,\n",
    "#     diag_kws=dict(color=cmap(0.9)),\n",
    "#     kind=\"contourf\",\n",
    "#     norm=\"log\",\n",
    "#     vmax=1.0,\n",
    "#     vmin=0.001,\n",
    "#     alpha=0.75,\n",
    "# )\n",
    "# grid.plot_points(\n",
    "#     ps.image.sample(values, coords=coords, size=500),\n",
    "#     update_limits=True,\n",
    "#     diag_kws=dict(color=\"pink\"),\n",
    "#     kind=\"scatter\",\n",
    "#     c=\"pink\",\n",
    "#     s=0.85,\n",
    "# )\n",
    "# grid.set_diag_scale(\"log\")\n",
    "# plt.show()"
   ]
  },
  {
   "cell_type": "markdown",
   "id": "cfc54346-a489-47d8-9a4c-31f1b2566f15",
   "metadata": {},
   "source": [
    "### Slice matrix"
   ]
  },
  {
   "cell_type": "markdown",
   "id": "4537c519-f761-44e1-be36-32407c5904aa",
   "metadata": {},
   "source": [
    "This plot shows the dependence of the $x$-$p_x$ distribution on $y$ and $y'$: $f(x, p_x | y, p_y)$. The 3D marginal distributions $f(x, p_x, y | p_y)$ and $f(x, p_x, p_y | y)$ are shown on the right and bottom panels. The full projection $f(x, p_x)$ is shown on the bottom right."
   ]
  },
  {
   "cell_type": "code",
   "execution_count": null,
   "id": "c308dc01-6ab0-41c2-bcf5-67d95166c0f6",
   "metadata": {
    "tags": []
   },
   "outputs": [],
   "source": [
    "# for norm in (None, \"log\"):\n",
    "#     grid = psv.SliceGrid(\n",
    "#         nrows=9,\n",
    "#         ncols=9,\n",
    "#         space=0.2,\n",
    "#         gap=2.0,\n",
    "#         marginals=True,\n",
    "#         annotate=True,\n",
    "#         annotate_kws_view=dict(color=\"white\"),\n",
    "#         annotate_kws_slice=dict(color=\"black\"),\n",
    "#         xspineloc=\"neither\",\n",
    "#         yspineloc=\"neither\",\n",
    "#         figwidth=7.0,\n",
    "#     )\n",
    "#     grid.plot_image(\n",
    "#         ps.image.project(values, axis=(0, 1, 2, 3)),\n",
    "#         coords=coords,\n",
    "#         labels=dims,\n",
    "#         axis_view=(0, 1),\n",
    "#         axis_slice=(2, 3),\n",
    "#         debug=False,\n",
    "#         vmax=1.0,  # shared cmap\n",
    "#         norm=norm,\n",
    "#         offset=1.0,  # offset to deal with zeros for log cmap\n",
    "#     )\n",
    "#     plt.show()"
   ]
  },
  {
   "cell_type": "markdown",
   "id": "d10bf3f3-d4e4-42c3-a07e-4325f297f64d",
   "metadata": {},
   "source": [
    "(Can also call `psv.image.slice_matrix(f, coords, ...)`."
   ]
  },
  {
   "cell_type": "markdown",
   "id": "51d0d333-87a1-4bd4-9b7d-bc4aa47447ee",
   "metadata": {},
   "source": [
    "### 1D projection with interactive slicing"
   ]
  },
  {
   "cell_type": "code",
   "execution_count": null,
   "id": "36f56384-61f3-4211-ac69-a5acb0fed0ff",
   "metadata": {
    "tags": []
   },
   "outputs": [],
   "source": [
    "# psv.image.interactive_slice_1d(\n",
    "#     values,\n",
    "#     coords=coords,\n",
    "#     dims=dims,\n",
    "#     slice_type=\"range\",  # {\"int\", \"range\"}\n",
    "#     fig_kws=dict(ylabel=\"Density\"),\n",
    "#     kind=\"step\",\n",
    "#     fill=True,\n",
    "# )"
   ]
  },
  {
   "cell_type": "markdown",
   "id": "e7f565a0-a65e-4a13-b8b0-57227c5732bd",
   "metadata": {},
   "source": [
    "### 2D projection with interactive slicing"
   ]
  },
  {
   "cell_type": "code",
   "execution_count": null,
   "id": "f0e6a3c4-6c27-4da7-abec-367c9200086d",
   "metadata": {
    "tags": []
   },
   "outputs": [],
   "source": [
    "# psv.image.interactive_slice_2d(\n",
    "#     values,\n",
    "#     coords=coords,\n",
    "#     dims=dims,\n",
    "#     slice_type=\"range\",  # {\"int\", \"range\"}\n",
    "#     profiles_checkbox=True,\n",
    "#     kind=\"pcolor\",\n",
    "#     cmap=\"viridis\",\n",
    "# )"
   ]
  },
  {
   "cell_type": "markdown",
   "id": "eed226b0-73f8-4bb5-9d05-e1a9b27be50c",
   "metadata": {},
   "source": [
    "### Contour slices"
   ]
  },
  {
   "cell_type": "markdown",
   "id": "544c0461-94ff-43fd-94aa-371d1a9eb9e4",
   "metadata": {},
   "source": [
    "Here, we observe the 1D projection of the distribution within an ($n - 1$)-dimensional contour slice in the other dimensions. See https://arxiv.org/abs/2301.04178."
   ]
  },
  {
   "cell_type": "code",
   "execution_count": null,
   "id": "d7caabb2-3b03-4569-b342-0938f4aefa3a",
   "metadata": {
    "tags": []
   },
   "outputs": [],
   "source": [
    "# @interact(\n",
    "#     dim=widgets.Dropdown(options=dims, value=dims[0]),\n",
    "#     levels=widgets.FloatRangeSlider(\n",
    "#         description=\"(n-1) thresh\",\n",
    "#         min=0.0,\n",
    "#         max=1.0,\n",
    "#         value=(0.0, 1.0),\n",
    "#         step=0.001,\n",
    "#         continuous_update=True,\n",
    "#     ),\n",
    "# )\n",
    "# def update(dim: int, levels: float):\n",
    "#     lmin, lmax = levels\n",
    "#     axis = dims.index(dim)\n",
    "#     profile = ps.image.project_contour_slice_1d(values, axis=axis, lmin=lmin, lmax=lmax)\n",
    "#     profile = psv.scale_profile(profile, coords=coords[axis], scale=\"density\")\n",
    "\n",
    "#     fig, ax = uplt.subplots(figsize=(4, 1.5))\n",
    "#     ax.format(xlabel=dims[axis], ylabel=\"Density\")\n",
    "#     psv.plot_profile(\n",
    "#         profile,\n",
    "#         coords=coords[axis],\n",
    "#         ax=ax,\n",
    "#         kind=\"line\",\n",
    "#         fill=True,\n",
    "#         color=\"black\",\n",
    "#         lw=2.0,\n",
    "#     )\n",
    "#     plt.show()"
   ]
  },
  {
   "cell_type": "markdown",
   "id": "6b2748ac-f75b-450c-8e9b-3832161a16db",
   "metadata": {},
   "source": [
    "We can do the same thing with a 2D projection of the distribution within an ($n - 2$)-dimensional contour slice in the other dimensions."
   ]
  },
  {
   "cell_type": "code",
   "execution_count": null,
   "id": "0e0105fd-b58b-49c0-be24-0502b2cfe1a8",
   "metadata": {
    "tags": []
   },
   "outputs": [],
   "source": [
    "# @interact(\n",
    "#     dim1=widgets.Dropdown(options=dims, value=dims[0]),\n",
    "#     dim2=widgets.Dropdown(options=dims, value=dims[1]),\n",
    "#     levels=widgets.FloatRangeSlider(\n",
    "#         description=\"(d-2) thresh\",\n",
    "#         min=0.0,\n",
    "#         max=1.0,\n",
    "#         value=(0.0, 1.0),\n",
    "#         step=0.001,\n",
    "#         readback_format=\".3f\",\n",
    "#     ),\n",
    "#     log=False,\n",
    "# )\n",
    "# def update(dim1: int, dim2: int, levels: float, log: bool, **plot_kws):\n",
    "#     if dim1 == dim2:\n",
    "#         return\n",
    "#     axis = (dims.index(dim1), dims.index(dim2))\n",
    "#     lmin, lmax = levels\n",
    "#     projection = ps.image.project2d_contour(values, axis=axis, lmin=lmin, lmax=lmax)\n",
    "\n",
    "#     plot_kws[\"norm\"] = \"log\" if log else None\n",
    "#     plot_kws.setdefault(\"process_kws\", dict(thresh=0.001, thresh_type=\"frac\"))\n",
    "#     plot_kws.setdefault(\"colorbar\", True)\n",
    "#     plot_kws.setdefault(\"profx\", True)\n",
    "#     plot_kws.setdefault(\"profy\", True)\n",
    "#     plot_kws.setdefault(\"offset\", 1.0 if log else None)\n",
    "\n",
    "#     fig, ax = uplt.subplots()\n",
    "#     ax.format(xlabel=dims[axis[0]], ylabel=dims[axis[1]])\n",
    "#     psv.image.plot(projection, coords=[coords[i] for i in axis], ax=ax, **plot_kws)\n",
    "#     ax.format(xlim=sorted(ax.get_xlim()))\n",
    "#     plt.show()"
   ]
  },
  {
   "cell_type": "code",
   "execution_count": null,
   "id": "501993a2-95fd-4720-b61b-97ba2bc8ae95",
   "metadata": {},
   "outputs": [],
   "source": []
  }
 ],
 "metadata": {
  "kernelspec": {
   "display_name": "psdist",
   "language": "python",
   "name": "psdist"
  },
  "language_info": {
   "codemirror_mode": {
    "name": "ipython",
    "version": 3
   },
   "file_extension": ".py",
   "mimetype": "text/x-python",
   "name": "python",
   "nbconvert_exporter": "python",
   "pygments_lexer": "ipython3",
   "version": "3.11.11"
  }
 },
 "nbformat": 4,
 "nbformat_minor": 5
}
