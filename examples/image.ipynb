{
 "cells": [
  {
   "cell_type": "markdown",
   "id": "05e4f34d-1f26-4913-ad5b-f042e9b8dab9",
   "metadata": {},
   "source": [
    "# Examples: `image` "
   ]
  },
  {
   "cell_type": "code",
   "execution_count": null,
   "id": "8c08e571-9127-48ae-883b-e81bb7d6391a",
   "metadata": {},
   "outputs": [],
   "source": [
    "import sys\n",
    "sys.path.append('..')\n",
    "\n",
    "from ipywidgets import interact\n",
    "from ipywidgets import widgets\n",
    "import numpy as np\n",
    "import matplotlib.pyplot as plt\n",
    "import proplot as pplt\n",
    "import psdist.bunch as psd\n",
    "import psdist.image as psi\n",
    "import psdist.plotting as psp\n",
    "from psdist import utils\n",
    "import scipy.ndimage"
   ]
  },
  {
   "cell_type": "code",
   "execution_count": null,
   "id": "f3fbaf18-75a6-4a17-92b4-a879ef1f546e",
   "metadata": {},
   "outputs": [],
   "source": [
    "pplt.rc['cmap.discrete'] = False\n",
    "pplt.rc['cmap.sequential'] = 'viridis'\n",
    "pplt.rc['figure.facecolor'] = 'white'\n",
    "pplt.rc['grid'] = False"
   ]
  },
  {
   "cell_type": "markdown",
   "id": "d50e7213-2d70-4d33-ae70-3cbd467c234d",
   "metadata": {},
   "source": [
    "## 2D image "
   ]
  },
  {
   "cell_type": "code",
   "execution_count": null,
   "id": "890e8f6f-9abe-49be-81cd-ce594affb9c7",
   "metadata": {},
   "outputs": [],
   "source": [
    "res = 50\n",
    "state = np.random.RandomState(1951)\n",
    "xx = np.linspace(-5.0, 5.0, res)\n",
    "X, Y = np.meshgrid(xx, xx, indexing='ij')\n",
    "f = np.zeros((res, res))\n",
    "for _ in range(4):\n",
    "    sig = state.uniform(0.5, 1.5, size=2)\n",
    "    mu = state.uniform(-2.0, 2.0, size=2)\n",
    "    f += np.exp(-0.5 * (((X - mu[0]) / sig[0])**2 + ((Y - mu[1]) / sig[1])**2))\n",
    "f = f + 0.01 * np.max(f)\n",
    "f = f / np.max(f)"
   ]
  },
  {
   "cell_type": "code",
   "execution_count": null,
   "id": "dcd42f18-9121-48cc-b7d0-64e956dcf908",
   "metadata": {},
   "outputs": [],
   "source": [
    "@interact(thresh=(-5.0, 0.0), log=False, discrete=False)\n",
    "def update(log, discrete, thresh):\n",
    "    fig, ax = pplt.subplots()\n",
    "    ax = psp.image(\n",
    "        f, x=xx, y=xx, ax=ax,\n",
    "        profx=True, profy=True,\n",
    "        thresh=10.0**thresh, \n",
    "        rms_ellipse=True, \n",
    "        rms_ellipse_kws=dict(color='white'), \n",
    "        colorbar=True,\n",
    "        norm=('log' if log else None),\n",
    "        vmax=1.0,\n",
    "        discrete=discrete,\n",
    "    )"
   ]
  },
  {
   "cell_type": "markdown",
   "id": "cdbcbefc-0d4d-4d17-bb67-f5318f77f8f2",
   "metadata": {},
   "source": [
    "## ND image "
   ]
  },
  {
   "cell_type": "code",
   "execution_count": null,
   "id": "b7284819-ffa3-4198-93bb-77366868e287",
   "metadata": {},
   "outputs": [],
   "source": [
    "res = 50\n",
    "n = 4\n",
    "dims = [\"x\", \"x'\", \"y\", \"y'\"]\n",
    "pairs = [(i, j) for i in range(n) for j in range(i)]\n",
    "\n",
    "shape = tuple(n * [res])\n",
    "xmax = 5.0\n",
    "coords = n * [np.linspace(-xmax, xmax, res)]\n",
    "COORDS = np.meshgrid(*coords, indexing='ij')\n",
    "R = np.sqrt(np.sum([C**2 for C in COORDS], axis=0))\n",
    "\n",
    "# Start with gaussian * cosine\n",
    "f = 0.25 * np.exp(-0.5 * (R / 2.0)) * np.cos(3.0 * R)**2\n",
    "f[R > 4.0] = 0.0\n",
    "for _ in range(10):\n",
    "    # Generate a Gaussian distribution with random mean and std.\n",
    "    sig = state.uniform(0.5, 1.0, size=n)\n",
    "    mu = state.uniform(-3.0, 3.0, size=n)\n",
    "    argument = np.zeros(shape)\n",
    "    for i in range(n):\n",
    "        argument += ((COORDS[i] - mu[i]) / sig[i])**2\n",
    "    # Add random linear correlations.\n",
    "    for (i, j) in pairs:\n",
    "        r = state.uniform(-0.75, 0.75)\n",
    "        U = (COORDS[i] - mu[i]) / sig[i]\n",
    "        V = (COORDS[j] - mu[j]) / sig[j]\n",
    "        argument += r * U * V\n",
    "    f += np.exp(-0.5 * argument)    \n",
    "f = f / np.max(f)\n",
    "f[f < 0.001] = 0.0"
   ]
  },
  {
   "cell_type": "markdown",
   "id": "45a41f87-0fc3-4842-8b2e-1ac032f8c4f4",
   "metadata": {},
   "source": [
    "### Corner plot "
   ]
  },
  {
   "cell_type": "code",
   "execution_count": null,
   "id": "3ebe4297-9a02-4cde-a9de-60533c01dd4a",
   "metadata": {},
   "outputs": [],
   "source": [
    "axs = psp.corner(\n",
    "    data=f,\n",
    "    coords=coords,\n",
    "    diag_kind='step',\n",
    "    prof=False,\n",
    "    labels=dims,\n",
    "    # rms_ellipse=True,\n",
    "    rms_ellipse_kws=dict(color='white', alpha=0.35, level=2.0),\n",
    "    norm=None\n",
    ")"
   ]
  },
  {
   "cell_type": "markdown",
   "id": "cfc54346-a489-47d8-9a4c-31f1b2566f15",
   "metadata": {},
   "source": [
    "### Slice matrix"
   ]
  },
  {
   "cell_type": "code",
   "execution_count": null,
   "id": "1795fcf9-d4dc-4c43-80a2-a63ce882f1e2",
   "metadata": {},
   "outputs": [],
   "source": [
    "axs = psp.slice_matrix(\n",
    "    f, \n",
    "    axis_view=(0, 1),\n",
    "    axis_slice=(2, 3), \n",
    "    nrows=12, ncols=12, \n",
    "    coords=coords, \n",
    "    dims=dims, \n",
    "    pad=0.1,\n",
    "    vmax=1.0  # share same vmax for all plots.\n",
    ")"
   ]
  },
  {
   "cell_type": "markdown",
   "id": "51d0d333-87a1-4bd4-9b7d-bc4aa47447ee",
   "metadata": {},
   "source": [
    "### 1D projection with interactive slicing"
   ]
  },
  {
   "cell_type": "code",
   "execution_count": null,
   "id": "36f56384-61f3-4211-ac69-a5acb0fed0ff",
   "metadata": {},
   "outputs": [],
   "source": [
    "psp.interactive_proj1d(f, coords=coords, dims=dims)"
   ]
  },
  {
   "cell_type": "markdown",
   "id": "e7f565a0-a65e-4a13-b8b0-57227c5732bd",
   "metadata": {},
   "source": [
    "### 2D projection with interactive slicing"
   ]
  },
  {
   "cell_type": "code",
   "execution_count": null,
   "id": "f0e6a3c4-6c27-4da7-abec-367c9200086d",
   "metadata": {},
   "outputs": [],
   "source": [
    "psp.interactive_proj2d(f, coords=coords, dims=dims)"
   ]
  },
  {
   "cell_type": "markdown",
   "id": "eed226b0-73f8-4bb5-9d05-e1a9b27be50c",
   "metadata": {},
   "source": [
    "### Contour slices"
   ]
  },
  {
   "cell_type": "markdown",
   "id": "78f2c480-11c8-44b9-9620-470b152696dc",
   "metadata": {},
   "source": [
    "#### 1D projection, 4D contour slice"
   ]
  },
  {
   "cell_type": "markdown",
   "id": "544c0461-94ff-43fd-94aa-371d1a9eb9e4",
   "metadata": {},
   "source": [
    "Here, we observe the 1D projection of the distribution within a 4D contour slice in the other dimensions."
   ]
  },
  {
   "cell_type": "code",
   "execution_count": null,
   "id": "d7caabb2-3b03-4569-b342-0938f4aefa3a",
   "metadata": {},
   "outputs": [],
   "source": [
    "@interact(\n",
    "    dim=widgets.Dropdown(options=dims, value=dims[0]),\n",
    "    levels=widgets.FloatRangeSlider(\n",
    "        description='4D thresh', min=0.0, max=1.0, value=(0.0, 1.0), step=0.001,\n",
    "        continuous_update=True,\n",
    "    ),\n",
    ")\n",
    "def update(dim, levels):\n",
    "    lmin, lmax = levels\n",
    "    axis = dims.index(dim)\n",
    "    proj = psi.project1d_contour(f, axis=axis, lmin=lmin, lmax=lmax)\n",
    "    \n",
    "    fig, ax = pplt.subplots(figsize=(4, 1.5))\n",
    "    ax.format(xlabel=dims[axis])\n",
    "    psp.lineplot(coords[axis], proj, ax=ax, kind='step', color='black')\n",
    "    plt.show()"
   ]
  },
  {
   "cell_type": "markdown",
   "id": "6b2748ac-f75b-450c-8e9b-3832161a16db",
   "metadata": {},
   "source": [
    "We can do the same thing with a 2D projection of the distribution within a 3D contour slice in the other dimensions."
   ]
  },
  {
   "cell_type": "code",
   "execution_count": null,
   "id": "0e0105fd-b58b-49c0-be24-0502b2cfe1a8",
   "metadata": {},
   "outputs": [],
   "source": [
    "@interact(\n",
    "    dim1=widgets.Dropdown(options=dims, value=dims[0]),\n",
    "    dim2=widgets.Dropdown(options=dims, value=dims[1]),\n",
    "    levels=widgets.FloatRangeSlider(\n",
    "        description='3D thresh', min=0.0, max=1.0, value=(0.0, 1.0), step=0.001, \n",
    "        readback_format='.3f',\n",
    "    ),\n",
    "    log=False,\n",
    ")\n",
    "def update(levels, dim1, dim2, log, **plot_kws):\n",
    "    if dim1 == dim2:\n",
    "        return\n",
    "    axis = (dims.index(dim1), dims.index(dim2))\n",
    "    lmin, lmax = levels\n",
    "    proj = psi.project2d_contour(f, axis=axis, lmin=lmin, lmax=lmax)\n",
    "    \n",
    "    fig, ax = pplt.subplots()\n",
    "    plot_kws['norm'] = 'log' if log else None\n",
    "    plot_kws.setdefault('thresh', 10.0**-3.0)\n",
    "    plot_kws.setdefault('thresh_type', 'frac')\n",
    "    plot_kws.setdefault('colorbar', True)\n",
    "    plot_kws.setdefault('profx', True)\n",
    "    plot_kws.setdefault('profy', True)\n",
    "    plot_kws.setdefault('floor', 1.0 if log else None)\n",
    "    ax.format(xlabel=dims[axis[0]], ylabel=dims[axis[1]])\n",
    "    psp.image(proj, x=coords[axis[0]], y=coords[axis[1]], ax=ax, colorbar=True)\n",
    "    ax.format(xlim=sorted(ax.get_xlim()))\n",
    "    plt.show()"
   ]
  },
  {
   "cell_type": "markdown",
   "id": "68e9636f-342d-4d19-bab4-7045720e8d63",
   "metadata": {},
   "source": [
    "## Sampling"
   ]
  },
  {
   "cell_type": "markdown",
   "id": "ca0ce0a6-7b21-4054-ae3f-723428c06d5a",
   "metadata": {},
   "source": [
    "Treat the image as a histogram; sample uniformly within each bin."
   ]
  },
  {
   "cell_type": "code",
   "execution_count": null,
   "id": "678e57fd-e368-4cc1-b598-b0d338961e5e",
   "metadata": {},
   "outputs": [],
   "source": [
    "X = psi.sample_grid(f, coords, samples=1000)"
   ]
  },
  {
   "cell_type": "code",
   "execution_count": null,
   "id": "27b189e1-797b-49cb-9c6a-b2acf91d2f30",
   "metadata": {},
   "outputs": [],
   "source": [
    "cmap = pplt.Colormap('mono', left=0.0, right=0.7)\n",
    "\n",
    "axs = psp.corner(\n",
    "    data=f,\n",
    "    coords=coords,\n",
    "    diag_kind='step',\n",
    "    prof=False,\n",
    "    labels=dims,\n",
    "    cmap=cmap,\n",
    "    diag_kws=dict(color=cmap(0.75))\n",
    ")\n",
    "color = 'red'\n",
    "psp.corner(\n",
    "    data=X,\n",
    "    axes=axs,\n",
    "    kind='scatter',\n",
    "    diag_kws=dict(color=color),\n",
    "    s=1, color=color,\n",
    ")\n",
    "plt.show()"
   ]
  },
  {
   "cell_type": "code",
   "execution_count": null,
   "id": "f3913d4e-bd93-4bcc-96a2-9b8199bf40cc",
   "metadata": {},
   "outputs": [],
   "source": [
    "X = psi.sample_grid(f, coords, samples=int(1e5))"
   ]
  },
  {
   "cell_type": "code",
   "execution_count": null,
   "id": "0ed890e4-a509-4157-8a3e-f103e68abc73",
   "metadata": {},
   "outputs": [],
   "source": [
    "Sigma_image = psi.cov(f, coords)\n",
    "print(Sigma_image)"
   ]
  },
  {
   "cell_type": "code",
   "execution_count": null,
   "id": "4a08e808-284f-4eeb-a431-335dc459575b",
   "metadata": {},
   "outputs": [],
   "source": [
    "Sigma_bunch = np.cov(X.T)\n",
    "print(Sigma_bunch)"
   ]
  }
 ],
 "metadata": {
  "kernelspec": {
   "display_name": "Python 3 (ipykernel)",
   "language": "python",
   "name": "python3"
  },
  "language_info": {
   "codemirror_mode": {
    "name": "ipython",
    "version": 3
   },
   "file_extension": ".py",
   "mimetype": "text/x-python",
   "name": "python",
   "nbconvert_exporter": "python",
   "pygments_lexer": "ipython3",
   "version": "3.8.10"
  }
 },
 "nbformat": 4,
 "nbformat_minor": 5
}
