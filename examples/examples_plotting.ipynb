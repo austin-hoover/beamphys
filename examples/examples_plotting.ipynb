{
 "cells": [
  {
   "cell_type": "code",
   "execution_count": null,
   "id": "1a9e8250-2126-4bbd-b767-0436e9a814ee",
   "metadata": {},
   "outputs": [],
   "source": [
    "import sys\n",
    "sys.path.append('..')\n",
    "\n",
    "import numpy as np\n",
    "import matplotlib.pyplot as plt\n",
    "import proplot as pplt\n",
    "import psdist.plotting as psp"
   ]
  },
  {
   "cell_type": "code",
   "execution_count": null,
   "id": "1bc4b361-c179-4235-955f-a65f330480b3",
   "metadata": {},
   "outputs": [],
   "source": [
    "x = np.linspace(-4.0, 4.0, 21)\n",
    "y = np.exp(-0.5 * x**2)\n",
    "\n",
    "fig, axs = pplt.subplots(ncols=3, nrows=2, figwidth=4.0, share=False)\n",
    "kinds = ['line', 'step', 'bar']\n",
    "axs.format(\n",
    "    xticks=[], yticks=[], \n",
    "    toplabels=[f\"kind='{kind}'\" for kind in kinds],\n",
    "    leftlabels=[f\"flipxy={s}\" for s in [False, True]]\n",
    "    toplabel_kw=dict()\n",
    ")\n",
    "for j, kind in enumerate(kinds):\n",
    "    for fill in [False, True]:\n",
    "        alpha = 1.0\n",
    "        if fill and kind != 'bar':\n",
    "            kind = kind + 'filled'\n",
    "            alpha = 0.2      \n",
    "        for i, flipxy in enumerate([False, True]):\n",
    "            psp.lineplot(x, y, ax=axs[i, j], kind=kind, alpha=alpha, flipxy=flipxy)\n",
    "plt.show()"
   ]
  },
  {
   "cell_type": "code",
   "execution_count": null,
   "id": "5d15708a-6cc7-484f-a8db-ba2e3726560e",
   "metadata": {},
   "outputs": [],
   "source": []
  }
 ],
 "metadata": {
  "kernelspec": {
   "display_name": "Python 3 (ipykernel)",
   "language": "python",
   "name": "python3"
  },
  "language_info": {
   "codemirror_mode": {
    "name": "ipython",
    "version": 3
   },
   "file_extension": ".py",
   "mimetype": "text/x-python",
   "name": "python",
   "nbconvert_exporter": "python",
   "pygments_lexer": "ipython3",
   "version": "3.8.10"
  }
 },
 "nbformat": 4,
 "nbformat_minor": 5
}
